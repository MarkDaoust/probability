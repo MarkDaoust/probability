{
  "nbformat": 4,
  "nbformat_minor": 0,
  "metadata": {
    "colab": {
      "name": "Understanding TensorFlow Distributions Shapes.ipynb",
      "version": "0.3.2",
      "provenance": [],
      "collapsed_sections": [
        "wDRB80oLrG48"
      ]
    },
    "kernelspec": {
      "display_name": "Python [conda env:tfp]",
      "language": "python",
      "name": "conda-env-tfp-py"
    }
  },
  "cells": [
    {
      "metadata": {
        "id": "DcriL2xPrG3_",
        "colab_type": "text"
      },
      "cell_type": "markdown",
      "source": [
        "# Understanding TensorFlow Distributions Shapes\n",
        "\n",
        "<table class=\"tfo-notebook-buttons\" align=\"left\">\n",
        "  <td>\n",
        "    <a target=\"_blank\" href=\"https://colab.research.google.com/github/tensorflow/probability/blob/master/tensorflow_probability/examples/jupyter_notebooks/Understanding_TensorFlow_Distributions_Shapes.ipynb\"><img src=\"https://www.tensorflow.org/images/colab_logo_32px.png\" />Run in Google Colab</a>\n",
        "  </td>\n",
        "  <td>\n",
        "    <a target=\"_blank\" href=\"https://github.com/tensorflow/probability/blob/master/tensorflow_probability/examples/jupyter_notebooks/Understanding_TensorFlow_Distributions_Shapes.ipynb\"><img src=\"https://www.tensorflow.org/images/GitHub-Mark-32px.png\" />View source on GitHub</a>\n",
        "  </td>\n",
        "</table>"
      ]
    },
    {
      "metadata": {
        "id": "LaSuF7oe3q3x",
        "colab_type": "code",
        "colab": {}
      },
      "cell_type": "code",
      "source": [
        "!pip install tensorflow_probability"
      ],
      "execution_count": 0,
      "outputs": []
    },
    {
      "metadata": {
        "id": "J6t0EUihrG4B",
        "colab_type": "code",
        "colab": {}
      },
      "cell_type": "code",
      "source": [
        "import collections\n",
        "\n",
        "import tensorflow as tf\n",
        "import tensorflow_probability as tfp\n",
        "tfd = tfp.distributions\n",
        "tfb = tfp.bijectors\n",
        "\n",
        "tfe = tf.contrib.eager\n",
        "tfe.enable_eager_execution()\n",
        "\n",
        "from __future__ import print_function"
      ],
      "execution_count": 0,
      "outputs": []
    },
    {
      "metadata": {
        "id": "QD5lzFZerG4H",
        "colab_type": "text"
      },
      "cell_type": "markdown",
      "source": [
        "## Basics\n",
        "\n",
        "There are three important concepts associated with TensorFlow Distributions shapes:\n",
        "- *Event shape* describes the shape of a single draw from the distribution; it may be dependent across dimensions. For scalar distributions, the event shape is `[]`. For a 5-dimensional MultivariateNormal, the event shape is `[5]`.\n",
        "- *Batch shape* describes independent, not identically distributed draws, aka a \"batch\" of distributions.\n",
        "- *Sample shape* describes independent, identically distributed draws of batches from the distribution family.\n",
        "\n",
        "The event shape and the batch shape are properties of a `Distribution` object, whereas the sample shape is associated with a specific call to `sample` or `log_prob`.\n",
        "\n",
        "This notebook's purpose is to illustrate these concepts through examples, so if this isn't immediately obvious, don't worry!"
      ]
    },
    {
      "metadata": {
        "id": "yU34kIHDrG4I",
        "colab_type": "text"
      },
      "cell_type": "markdown",
      "source": [
        "### A note on TensorFlow Eager.\n",
        "\n",
        "This entire notebook is written using [TensorFlow Eager](https://research.googleblog.com/2017/10/eager-execution-imperative-define-by.html). None of the concepts presented *rely* on Eager, although with Eager, distribution batch and event shapes are evaluated (and therefore known) when the `Distribution` object is created in Python, whereas in graph (non-Eager mode), it is possible to define distributions whose event and batch shapes are undetermined until the graph is run."
      ]
    },
    {
      "metadata": {
        "id": "MeirD-0JrG4K",
        "colab_type": "text"
      },
      "cell_type": "markdown",
      "source": [
        "## Scalar Distributions\n",
        "\n",
        "As we noted above, a `Distribution` object has defined event and batch shapes. We'll start with a utility to describe distributions:"
      ]
    },
    {
      "metadata": {
        "id": "bq8guNPtrG4M",
        "colab_type": "code",
        "colab": {}
      },
      "cell_type": "code",
      "source": [
        "def describe_distributions(distributions):\n",
        "  print('\\n'.join([str(d) for d in distributions]))"
      ],
      "execution_count": 0,
      "outputs": []
    },
    {
      "metadata": {
        "id": "06CafVXWrG4Q",
        "colab_type": "text"
      },
      "cell_type": "markdown",
      "source": [
        "In this section we'll explore *scalar* distributions: distributions with an event shape of `[]`. A typical example is the Poisson distribution, specified by a `rate`:"
      ]
    },
    {
      "metadata": {
        "id": "Sdz1OMg7rG4S",
        "colab_type": "code",
        "colab": {
          "height": 101
        },
        "outputId": "fd4951f8-4cc1-4e0f-8dcf-14a2f93c63ae"
      },
      "cell_type": "code",
      "source": [
        "poisson_distributions = [\n",
        "    tfd.Poisson(rate=1., name='One Poisson Scalar Batch'),\n",
        "    tfd.Poisson(rate=[1., 10., 100.], name='Three Poissons'),\n",
        "    tfd.Poisson(rate=[[1., 10., 100.,], [2., 20., 200.]],\n",
        "                name='Two-by-Three Poissons'),\n",
        "    tfd.Poisson(rate=[1.], name='One Poisson Vector Batch'),\n",
        "    tfd.Poisson(rate=[[1.]], name='One Poisson Expanded Batch')\n",
        "]\n",
        "\n",
        "describe_distributions(poisson_distributions)"
      ],
      "execution_count": 0,
      "outputs": [
        {
          "output_type": "stream",
          "text": [
            "tf.distributions.Poisson(\"One Poisson Scalar Batch\", batch_shape=(), event_shape=(), dtype=float32)\n",
            "tf.distributions.Poisson(\"Three Poissons\", batch_shape=(3,), event_shape=(), dtype=float32)\n",
            "tf.distributions.Poisson(\"Two-by-Three Poissons\", batch_shape=(2, 3), event_shape=(), dtype=float32)\n",
            "tf.distributions.Poisson(\"One Poisson Vector Batch\", batch_shape=(1,), event_shape=(), dtype=float32)\n",
            "tf.distributions.Poisson(\"One Poisson Expanded Batch\", batch_shape=(1, 1), event_shape=(), dtype=float32)\n"
          ],
          "name": "stdout"
        }
      ]
    },
    {
      "metadata": {
        "id": "lVPVIsC9rG4a",
        "colab_type": "text"
      },
      "cell_type": "markdown",
      "source": [
        "The Poisson distribution is a scalar distribution, so its event shape is always `[]`. If we specify more rates, these show up in the batch shape. The final pair of examples is interesting: there's only a single rate, but because that rate is embedded in a numpy array with non-empty shape, that shape becomes the batch shape."
      ]
    },
    {
      "metadata": {
        "id": "cFlXG9O5rG4b",
        "colab_type": "text"
      },
      "cell_type": "markdown",
      "source": [
        "The standard Normal distribution is also a scalar. It's event shape is `[]`, just like for the Poisson, but we'll play with it to see our first example of *broadcasting*. The Normal is specified using `loc` and `scale` parameters:"
      ]
    },
    {
      "metadata": {
        "id": "e5PXRPM1rG4c",
        "colab_type": "code",
        "colab": {
          "height": 84
        },
        "outputId": "2e750d67-67ec-4944-8a71-4516347093ac"
      },
      "cell_type": "code",
      "source": [
        "normal_distributions = [\n",
        "    tfd.Normal(loc=0., scale=1., name='Standard'),\n",
        "    tfd.Normal(loc=[0.], scale=1., name='Standard Vector Batch'),\n",
        "    tfd.Normal(loc=[0., 1., 2., 3.], scale=1., name='Different Locs'),\n",
        "    tfd.Normal(loc=[0., 1., 2., 3.], scale=[[1.], [5.]],\n",
        "               name='Broadcasting Scale')\n",
        "]\n",
        "\n",
        "describe_distributions(normal_distributions)"
      ],
      "execution_count": 0,
      "outputs": [
        {
          "output_type": "stream",
          "text": [
            "tf.distributions.Normal(\"Standard\", batch_shape=(), event_shape=(), dtype=float32)\n",
            "tf.distributions.Normal(\"Standard Vector Batch\", batch_shape=(1,), event_shape=(), dtype=float32)\n",
            "tf.distributions.Normal(\"Different Locs\", batch_shape=(4,), event_shape=(), dtype=float32)\n",
            "tf.distributions.Normal(\"Broadcasting Scale\", batch_shape=(2, 4), event_shape=(), dtype=float32)\n"
          ],
          "name": "stdout"
        }
      ]
    },
    {
      "metadata": {
        "id": "Dh70eNXHrG4i",
        "colab_type": "text"
      },
      "cell_type": "markdown",
      "source": [
        "The interesting example above is the `Broadcasting Scale` distribution. The `loc` parameter has shape `[4]`, and the `scale` parameter has shape `[2, 1]`. Using [Numpy broadcasting rules](https://docs.scipy.org/doc/numpy/user/basics.broadcasting.html), the batch shape is `[2, 4]`. An equivalent (but less elegant and not-recommended) way to define the `\"Broadcasting Scale\"` distribution would be:"
      ]
    },
    {
      "metadata": {
        "id": "9G5JNBzQrG4j",
        "colab_type": "code",
        "colab": {
          "height": 34
        },
        "outputId": "862aa0c1-b20c-47e9-a6ff-755096ac4783"
      },
      "cell_type": "code",
      "source": [
        "describe_distributions(\n",
        "    [tfd.Normal(loc=[[0., 1., 2., 3], [0., 1., 2., 3.]],\n",
        "                scale=[[1., 1., 1., 1.], [5., 5., 5., 5.]])])"
      ],
      "execution_count": 0,
      "outputs": [
        {
          "output_type": "stream",
          "text": [
            "tf.distributions.Normal(\"Normal\", batch_shape=(2, 4), event_shape=(), dtype=float32)\n"
          ],
          "name": "stdout"
        }
      ]
    },
    {
      "metadata": {
        "id": "_hSBWsokrG4p",
        "colab_type": "text"
      },
      "cell_type": "markdown",
      "source": [
        "We can see why the broadcasting notation is useful, although it's also a source of headaches and bugs."
      ]
    },
    {
      "metadata": {
        "id": "trGxojHwrG4r",
        "colab_type": "text"
      },
      "cell_type": "markdown",
      "source": [
        "### Sampling Scalar Distributions"
      ]
    },
    {
      "metadata": {
        "id": "TDJqRz-qrG4t",
        "colab_type": "text"
      },
      "cell_type": "markdown",
      "source": [
        "There are two main things we can do with distributions: we can `sample` from them and we can compute `log_prob`s. Let's explore sampling first. The basic rule is that when we sample from a distribution, the resulting Tensor has shape `[sample_shape, batch_shape, event_shape]`, where `batch_shape` and `event_shape` are provided by the `Distribution` object, and `sample_shape` is provided by the call to `sample`. For scalar distributions, `event_shape = []`, so the Tensor returned from sample will have shape `[sample_shape, batch_shape]`. Let's try it:"
      ]
    },
    {
      "metadata": {
        "id": "2TbeP0btrG4u",
        "colab_type": "code",
        "colab": {
          "height": 857
        },
        "outputId": "2cc071cd-7e4b-4f7d-db88-3b2c3ce4cad1"
      },
      "cell_type": "code",
      "source": [
        "def describe_sample_tensor_shape(sample_shape, distribution):\n",
        "    print('Sample shape:', sample_shape)\n",
        "    print('Returned sample tensor shape:',\n",
        "          distribution.sample(sample_shape).shape)\n",
        "\n",
        "def describe_sample_tensor_shapes(distributions, sample_shapes):\n",
        "    started = False\n",
        "    for distribution in distributions:\n",
        "      print(distribution)\n",
        "      for sample_shape in sample_shapes:\n",
        "        describe_sample_tensor_shape(sample_shape, distribution)\n",
        "      print()\n",
        "\n",
        "sample_shapes = [1, 2, [1, 5], [3, 4, 5]]\n",
        "describe_sample_tensor_shapes(poisson_distributions, sample_shapes)"
      ],
      "execution_count": 0,
      "outputs": [
        {
          "output_type": "stream",
          "text": [
            "tf.distributions.Poisson(\"One Poisson Scalar Batch\", batch_shape=(), event_shape=(), dtype=float32)\n",
            "Sample shape: 1\n",
            "Returned sample tensor shape: (1,)\n",
            "Sample shape: 2\n",
            "Returned sample tensor shape: (2,)\n",
            "Sample shape: [1, 5]\n",
            "Returned sample tensor shape: (1, 5)\n",
            "Sample shape: [3, 4, 5]\n",
            "Returned sample tensor shape: (3, 4, 5)\n",
            "\n",
            "tf.distributions.Poisson(\"Three Poissons\", batch_shape=(3,), event_shape=(), dtype=float32)\n",
            "Sample shape: 1\n",
            "Returned sample tensor shape: (1, 3)\n",
            "Sample shape: 2\n",
            "Returned sample tensor shape: (2, 3)\n",
            "Sample shape: [1, 5]\n",
            "Returned sample tensor shape: (1, 5, 3)\n",
            "Sample shape: [3, 4, 5]\n",
            "Returned sample tensor shape: (3, 4, 5, 3)\n",
            "\n",
            "tf.distributions.Poisson(\"Two-by-Three Poissons\", batch_shape=(2, 3), event_shape=(), dtype=float32)\n",
            "Sample shape: 1\n",
            "Returned sample tensor shape: (1, 2, 3)\n",
            "Sample shape: 2\n",
            "Returned sample tensor shape: (2, 2, 3)\n",
            "Sample shape: [1, 5]\n",
            "Returned sample tensor shape: (1, 5, 2, 3)\n",
            "Sample shape: [3, 4, 5]\n",
            "Returned sample tensor shape: (3, 4, 5, 2, 3)\n",
            "\n",
            "tf.distributions.Poisson(\"One Poisson Vector Batch\", batch_shape=(1,), event_shape=(), dtype=float32)\n",
            "Sample shape: 1\n",
            "Returned sample tensor shape: (1, 1)\n",
            "Sample shape: 2\n",
            "Returned sample tensor shape: (2, 1)\n",
            "Sample shape: [1, 5]\n",
            "Returned sample tensor shape: (1, 5, 1)\n",
            "Sample shape: [3, 4, 5]\n",
            "Returned sample tensor shape: (3, 4, 5, 1)\n",
            "\n",
            "tf.distributions.Poisson(\"One Poisson Expanded Batch\", batch_shape=(1, 1), event_shape=(), dtype=float32)\n",
            "Sample shape: 1\n",
            "Returned sample tensor shape: (1, 1, 1)\n",
            "Sample shape: 2\n",
            "Returned sample tensor shape: (2, 1, 1)\n",
            "Sample shape: [1, 5]\n",
            "Returned sample tensor shape: (1, 5, 1, 1)\n",
            "Sample shape: [3, 4, 5]\n",
            "Returned sample tensor shape: (3, 4, 5, 1, 1)\n",
            "\n"
          ],
          "name": "stdout"
        }
      ]
    },
    {
      "metadata": {
        "id": "qiJK8UBorG40",
        "colab_type": "code",
        "colab": {
          "height": 689
        },
        "outputId": "34b62774-766b-41ba-cf4d-0e3e689816ec"
      },
      "cell_type": "code",
      "source": [
        "describe_sample_tensor_shapes(normal_distributions, sample_shapes)"
      ],
      "execution_count": 0,
      "outputs": [
        {
          "output_type": "stream",
          "text": [
            "tf.distributions.Normal(\"Standard\", batch_shape=(), event_shape=(), dtype=float32)\n",
            "Sample shape: 1\n",
            "Returned sample tensor shape: (1,)\n",
            "Sample shape: 2\n",
            "Returned sample tensor shape: (2,)\n",
            "Sample shape: [1, 5]\n",
            "Returned sample tensor shape: (1, 5)\n",
            "Sample shape: [3, 4, 5]\n",
            "Returned sample tensor shape: (3, 4, 5)\n",
            "\n",
            "tf.distributions.Normal(\"Standard Vector Batch\", batch_shape=(1,), event_shape=(), dtype=float32)\n",
            "Sample shape: 1\n",
            "Returned sample tensor shape: (1, 1)\n",
            "Sample shape: 2\n",
            "Returned sample tensor shape: (2, 1)\n",
            "Sample shape: [1, 5]\n",
            "Returned sample tensor shape: (1, 5, 1)\n",
            "Sample shape: [3, 4, 5]\n",
            "Returned sample tensor shape: (3, 4, 5, 1)\n",
            "\n",
            "tf.distributions.Normal(\"Different Locs\", batch_shape=(4,), event_shape=(), dtype=float32)\n",
            "Sample shape: 1\n",
            "Returned sample tensor shape: (1, 4)\n",
            "Sample shape: 2\n",
            "Returned sample tensor shape: (2, 4)\n",
            "Sample shape: [1, 5]\n",
            "Returned sample tensor shape: (1, 5, 4)\n",
            "Sample shape: [3, 4, 5]\n",
            "Returned sample tensor shape: (3, 4, 5, 4)\n",
            "\n",
            "tf.distributions.Normal(\"Broadcasting Scale\", batch_shape=(2, 4), event_shape=(), dtype=float32)\n",
            "Sample shape: 1\n",
            "Returned sample tensor shape: (1, 2, 4)\n",
            "Sample shape: 2\n",
            "Returned sample tensor shape: (2, 2, 4)\n",
            "Sample shape: [1, 5]\n",
            "Returned sample tensor shape: (1, 5, 2, 4)\n",
            "Sample shape: [3, 4, 5]\n",
            "Returned sample tensor shape: (3, 4, 5, 2, 4)\n",
            "\n"
          ],
          "name": "stdout"
        }
      ]
    },
    {
      "metadata": {
        "id": "wDRB80oLrG48",
        "colab_type": "text"
      },
      "cell_type": "markdown",
      "source": [
        "That's about all there is to say about `sample`: returned sample tensors have shape `[sample_shape, batch_shape, event_shape]`.\n",
        "\n",
        "### Computing `log_prob` For Scalar Distributions\n",
        "\n",
        "Now let's take a look at `log_prob`, which is somewhat trickier. `log_prob` takes as input a (non-empty) tensor representing the location(s) at which to compute the `log_prob` for the distribution. In the most straightforward case, this tensor will have a shape of the form `[sample_shape, batch_shape, event_shape]`, where `batch_shape` and `event_shape` match the batch and event shapes of the distribution. Recall once more that for scalar distributions, `event_shape = []`, so the input tensor has shape `[sample_shape, batch_shape]` In this case, we get back a tensor of shape `[sample_shape, batch_shape]`:"
      ]
    },
    {
      "metadata": {
        "id": "UgNIiFf9rG49",
        "colab_type": "code",
        "colab": {
          "height": 34
        },
        "outputId": "4a120c34-8712-48a4-9d2e-d0393d071a42"
      },
      "cell_type": "code",
      "source": [
        "three_poissons = tfd.Poisson(rate=[1., 10., 100.], name='Three Poissons')\n",
        "three_poissons"
      ],
      "execution_count": 0,
      "outputs": [
        {
          "output_type": "stream",
          "text": [
            "tf.distributions.Poisson(\"Three Poissons\", batch_shape=(3,), event_shape=(), dtype=float32)\n"
          ],
          "name": "stdout"
        }
      ]
    },
    {
      "metadata": {
        "id": "OpN5WGog0WwC",
        "colab_type": "code",
        "colab": {
          "height": 67
        },
        "outputId": "30c81535-fe77-46b3-f8d7-6bdca3774830"
      },
      "cell_type": "code",
      "source": [
        "three_poissons.log_prob([[1., 10., 100.], [100., 10., 1]])  # sample_shape is [2]."
      ],
      "execution_count": 0,
      "outputs": [
        {
          "output_type": "execute_result",
          "data": {
            "text/plain": [
              "<tf.Tensor: id=633, shape=(2, 3), dtype=float32, numpy=\n",
              "array([[  -1.        ,   -2.07856083,   -3.22235107],\n",
              "       [-364.73937988,   -2.07856083,  -95.3948288 ]], dtype=float32)>"
            ]
          },
          "metadata": {
            "tags": []
          },
          "execution_count": 32
        }
      ]
    },
    {
      "metadata": {
        "id": "4szFj9lkrG5F",
        "colab_type": "code",
        "colab": {
          "height": 67
        },
        "outputId": "5a36028d-b572-4c4a-d2b6-68d77db2b975"
      },
      "cell_type": "code",
      "source": [
        "three_poissons.log_prob([[[[1., 10., 100.], [100., 10., 1.]]]])  # sample_shape is [1, 1, 2]."
      ],
      "execution_count": 0,
      "outputs": [
        {
          "output_type": "execute_result",
          "data": {
            "text/plain": [
              "<tf.Tensor: id=640, shape=(1, 1, 2, 3), dtype=float32, numpy=\n",
              "array([[[[  -1.        ,   -2.07856083,   -3.22235107],\n",
              "         [-364.73937988,   -2.07856083,  -95.3948288 ]]]], dtype=float32)>"
            ]
          },
          "metadata": {
            "tags": []
          },
          "execution_count": 33
        }
      ]
    },
    {
      "metadata": {
        "id": "VG_n9BHsrG5M",
        "colab_type": "text"
      },
      "cell_type": "markdown",
      "source": [
        "Note how in the first example, the input and output have shape `[2, 3]` and in the second example they have shape `[1, 1, 2, 3]`.\n",
        "\n",
        "That would be all there was to say, if it weren't for broadcasting. Here are the rules once we take broadcasting into account. We describe it in full generality and note simplifications for scalar distributions:\n",
        "1. Define `n = len(batch_shape) + len(event_shape)`. (For scalar distributions, `len(event_shape)=0`.)\n",
        "2. If the input tensor `t` has fewer than `n` dimensions, pad its shape by adding dimensions of size `1` on the left until it has exactly `n` dimensions. Call the resulting tensor `t'`.\n",
        "3. Broadcast the `n` rightmost dimensions of `t'` against the `[batch_shape, event_shape]` of the distribution you're computing a `log_prob` for. In more detail: for the dimensions where `t'` already matches the distribution, do nothing, and for the dimensions where `t'` has a singleton, replicate that singleton the appropriate number of times. Any other situation is an error. (For scalar distributions, we only broadcast against `batch_shape`, since event_shape = `[]`.)\n",
        "4. Now we're finally able to compute the `log_prob`. The resulting tensor will have shape `[sample_shape, batch_shape]`, where `sample_shape` is defined to be any dimensions of `t` or `t'` to the left of the `n`-rightmost dimensions: `sample_shape = shape(t)[:-n]`.\n",
        "\n",
        "This might be a mess if you don't know what it means, so let's work some examples:"
      ]
    },
    {
      "metadata": {
        "id": "YwDVaeRHrG5O",
        "colab_type": "code",
        "colab": {
          "height": 34
        },
        "outputId": "da9296ed-00cc-4ebb-eb91-4e15a21cc047"
      },
      "cell_type": "code",
      "source": [
        "three_poissons.log_prob([10.])"
      ],
      "execution_count": 0,
      "outputs": [
        {
          "output_type": "execute_result",
          "data": {
            "text/plain": [
              "<tf.Tensor: id=647, shape=(3,), dtype=float32, numpy=array([-16.10441208,  -2.07856083, -69.05270386], dtype=float32)>"
            ]
          },
          "metadata": {
            "tags": []
          },
          "execution_count": 34
        }
      ]
    },
    {
      "metadata": {
        "id": "xAImEhtdrG5U",
        "colab_type": "text"
      },
      "cell_type": "markdown",
      "source": [
        "The tensor `[10.]` (with shape `[1]`) is broadcast across the `batch_shape` of 3, so we evaluate all three Poissons' log probability at the value 10."
      ]
    },
    {
      "metadata": {
        "id": "daDAG6p2rG5V",
        "colab_type": "code",
        "colab": {
          "height": 118
        },
        "outputId": "1bae7f48-96c1-4f2a-92d5-896e4f6d9f3d"
      },
      "cell_type": "code",
      "source": [
        "three_poissons.log_prob([[[1.], [10.]], [[100.], [1000.]]])"
      ],
      "execution_count": 0,
      "outputs": [
        {
          "output_type": "execute_result",
          "data": {
            "text/plain": [
              "<tf.Tensor: id=661, shape=(2, 2, 3), dtype=float32, numpy=\n",
              "array([[[ -1.00000000e+00,  -7.69741488e+00,  -9.53948288e+01],\n",
              "        [ -1.61044121e+01,  -2.07856083e+00,  -6.90527039e+01]],\n",
              "\n",
              "       [[ -3.64739380e+02,  -1.43480865e+02,  -3.22235107e+00],\n",
              "        [ -5.91312793e+03,  -3.61954272e+03,  -1.40695752e+03]]], dtype=float32)>"
            ]
          },
          "metadata": {
            "tags": []
          },
          "execution_count": 36
        }
      ]
    },
    {
      "metadata": {
        "id": "REEX-DgBrG5b",
        "colab_type": "text"
      },
      "cell_type": "markdown",
      "source": [
        "In the above example, the input tensor has shape `[2, 2, 1]`, while the distributions object has a batch shape of 3. So for each of the `[2, 2]` sample dimensions, the single value provided gets broadcats to each of the three Poissons.\n",
        "\n",
        "A possibly useful way to think of it: because `three_poissons` has `batch_shape = [2, 3]`, a call to `log_prob` must take a Tensor whose last dimension is either 1 or 3; anything else is an error. (The numpy broadcasting rules treat the special case of a scalar as being totally equivalent to a Tensor of shape `[1]`.)\n",
        "\n",
        "Let's test our chops by playing with the more complex Poisson distribution with `batch_shape = [2, 3]`:"
      ]
    },
    {
      "metadata": {
        "id": "MkSWkwYarG5d",
        "colab_type": "code",
        "colab": {}
      },
      "cell_type": "code",
      "source": [
        "poisson_2_by_3 = tfd.Poisson(\n",
        "    rate=[[1., 10., 100.,], [2., 20., 200.]],\n",
        "    name='Two-by-Three Poissons')"
      ],
      "execution_count": 0,
      "outputs": []
    },
    {
      "metadata": {
        "id": "9YFRkkssrG5f",
        "colab_type": "code",
        "colab": {
          "height": 67
        },
        "outputId": "8c9104b4-7a1c-4236-f3c4-0731d411f262"
      },
      "cell_type": "code",
      "source": [
        "poisson_2_by_3.log_prob(1.)"
      ],
      "execution_count": 0,
      "outputs": [
        {
          "output_type": "execute_result",
          "data": {
            "text/plain": [
              "<tf.Tensor: id=669, shape=(2, 3), dtype=float32, numpy=\n",
              "array([[  -1.        ,   -7.69741488,  -95.3948288 ],\n",
              "       [  -1.30685282,  -17.00426865, -194.70167542]], dtype=float32)>"
            ]
          },
          "metadata": {
            "tags": []
          },
          "execution_count": 38
        }
      ]
    },
    {
      "metadata": {
        "id": "CqQXvOexrG5i",
        "colab_type": "code",
        "colab": {
          "height": 67
        },
        "outputId": "4cee8b38-0954-44da-8d0e-dd98e53f3079"
      },
      "cell_type": "code",
      "source": [
        "poisson_2_by_3.log_prob([1.])  # Exactly equivalent to above, demonstrating the scalar special case."
      ],
      "execution_count": 0,
      "outputs": [
        {
          "output_type": "execute_result",
          "data": {
            "text/plain": [
              "<tf.Tensor: id=676, shape=(2, 3), dtype=float32, numpy=\n",
              "array([[  -1.        ,   -7.69741488,  -95.3948288 ],\n",
              "       [  -1.30685282,  -17.00426865, -194.70167542]], dtype=float32)>"
            ]
          },
          "metadata": {
            "tags": []
          },
          "execution_count": 39
        }
      ]
    },
    {
      "metadata": {
        "id": "1nCuYQC5rG5m",
        "colab_type": "code",
        "colab": {
          "height": 67
        },
        "outputId": "461f8039-434b-4d2c-f7c1-4cef255e4ffb"
      },
      "cell_type": "code",
      "source": [
        "poisson_2_by_3.log_prob([[1., 1., 1.], [1., 1., 1.]])  # Another way to write the same thing. No broadcasting."
      ],
      "execution_count": 0,
      "outputs": [
        {
          "output_type": "execute_result",
          "data": {
            "text/plain": [
              "<tf.Tensor: id=683, shape=(2, 3), dtype=float32, numpy=\n",
              "array([[  -1.        ,   -7.69741488,  -95.3948288 ],\n",
              "       [  -1.30685282,  -17.00426865, -194.70167542]], dtype=float32)>"
            ]
          },
          "metadata": {
            "tags": []
          },
          "execution_count": 40
        }
      ]
    },
    {
      "metadata": {
        "id": "2PgG6udBrG5p",
        "colab_type": "code",
        "colab": {
          "height": 67
        },
        "outputId": "c4d005ea-9514-477b-f921-dcc05a9836cd"
      },
      "cell_type": "code",
      "source": [
        "poisson_2_by_3.log_prob([[1., 10., 100.]])  # Input is [1, 3] broadcast to [2, 3]."
      ],
      "execution_count": 0,
      "outputs": [
        {
          "output_type": "execute_result",
          "data": {
            "text/plain": [
              "<tf.Tensor: id=690, shape=(2, 3), dtype=float32, numpy=\n",
              "array([[ -1.        ,  -2.07856083,  -3.22235107],\n",
              "       [ -1.30685282,  -5.14708996, -33.90765381]], dtype=float32)>"
            ]
          },
          "metadata": {
            "tags": []
          },
          "execution_count": 41
        }
      ]
    },
    {
      "metadata": {
        "id": "Gm7ejyoArG5s",
        "colab_type": "code",
        "colab": {
          "height": 67
        },
        "outputId": "333a532e-c7ee-426c-9b8f-1f5b39f90057"
      },
      "cell_type": "code",
      "source": [
        "poisson_2_by_3.log_prob([[1., 10., 100.], [1., 10., 100.]])  # Equivalent to above. No broadcasting."
      ],
      "execution_count": 0,
      "outputs": [
        {
          "output_type": "execute_result",
          "data": {
            "text/plain": [
              "<tf.Tensor: id=697, shape=(2, 3), dtype=float32, numpy=\n",
              "array([[ -1.        ,  -2.07856083,  -3.22235107],\n",
              "       [ -1.30685282,  -5.14708996, -33.90765381]], dtype=float32)>"
            ]
          },
          "metadata": {
            "tags": []
          },
          "execution_count": 42
        }
      ]
    },
    {
      "metadata": {
        "id": "mVMSGVvGrG5w",
        "colab_type": "code",
        "colab": {
          "height": 67
        },
        "outputId": "8d4a9cf0-5baa-492b-b05f-f1588320452d"
      },
      "cell_type": "code",
      "source": [
        "poisson_2_by_3.log_prob([[1., 1., 1.], [2., 2., 2.]])  # No broadcasting."
      ],
      "execution_count": 0,
      "outputs": [
        {
          "output_type": "execute_result",
          "data": {
            "text/plain": [
              "<tf.Tensor: id=704, shape=(2, 3), dtype=float32, numpy=\n",
              "array([[  -1.        ,   -7.69741488,  -95.3948288 ],\n",
              "       [  -1.30685282,  -14.70168304, -190.09651184]], dtype=float32)>"
            ]
          },
          "metadata": {
            "tags": []
          },
          "execution_count": 43
        }
      ]
    },
    {
      "metadata": {
        "id": "OVEpi5QErG5z",
        "colab_type": "code",
        "colab": {
          "height": 67
        },
        "outputId": "f83e988c-76fc-4f29-d919-b6fcb8b5d1ea"
      },
      "cell_type": "code",
      "source": [
        "poisson_2_by_3.log_prob([[1.], [2.]])  # Equivalent to above. Input shape [2, 1] broadcast to [2, 3]."
      ],
      "execution_count": 0,
      "outputs": [
        {
          "output_type": "execute_result",
          "data": {
            "text/plain": [
              "<tf.Tensor: id=711, shape=(2, 3), dtype=float32, numpy=\n",
              "array([[  -1.        ,   -7.69741488,  -95.3948288 ],\n",
              "       [  -1.30685282,  -14.70168304, -190.09651184]], dtype=float32)>"
            ]
          },
          "metadata": {
            "tags": []
          },
          "execution_count": 44
        }
      ]
    },
    {
      "metadata": {
        "id": "ZW2tApDGrG53",
        "colab_type": "text"
      },
      "cell_type": "markdown",
      "source": [
        "The above examples involved broadcasting over the batch, but the sample shape was empty. Suppose we have a collection of values, and we want to get the log probability of each value at each point in the batch. We could do it manually:"
      ]
    },
    {
      "metadata": {
        "id": "03DvnmK2rG53",
        "colab_type": "code",
        "colab": {
          "height": 118
        },
        "outputId": "033fc2da-8802-4075-aede-994f4aab151a"
      },
      "cell_type": "code",
      "source": [
        "poisson_2_by_3.log_prob([[[1., 1., 1.], [1., 1., 1.]], [[2., 2., 2.], [2., 2., 2.]]])  # Input shape [2, 2, 3]."
      ],
      "execution_count": 0,
      "outputs": [
        {
          "output_type": "execute_result",
          "data": {
            "text/plain": [
              "<tf.Tensor: id=718, shape=(2, 2, 3), dtype=float32, numpy=\n",
              "array([[[  -1.        ,   -7.69741488,  -95.3948288 ],\n",
              "        [  -1.30685282,  -17.00426865, -194.70167542]],\n",
              "\n",
              "       [[  -1.69314718,   -6.08797693,  -91.48280334],\n",
              "        [  -1.30685282,  -14.70168304, -190.09651184]]], dtype=float32)>"
            ]
          },
          "metadata": {
            "tags": []
          },
          "execution_count": 45
        }
      ]
    },
    {
      "metadata": {
        "id": "XkpJQ0dJrG56",
        "colab_type": "text"
      },
      "cell_type": "markdown",
      "source": [
        "Or we could let broadcasting handle the last batch dimension:"
      ]
    },
    {
      "metadata": {
        "id": "KJ6OsodCrG57",
        "colab_type": "code",
        "colab": {
          "height": 118
        },
        "outputId": "19929c14-a9d8-4e6b-e161-69e70c946d92"
      },
      "cell_type": "code",
      "source": [
        "poisson_2_by_3.log_prob([[[1.], [1.]], [[2.], [2.]]])  # Input shape [2, 2, 1]."
      ],
      "execution_count": 0,
      "outputs": [
        {
          "output_type": "execute_result",
          "data": {
            "text/plain": [
              "<tf.Tensor: id=725, shape=(2, 2, 3), dtype=float32, numpy=\n",
              "array([[[  -1.        ,   -7.69741488,  -95.3948288 ],\n",
              "        [  -1.30685282,  -17.00426865, -194.70167542]],\n",
              "\n",
              "       [[  -1.69314718,   -6.08797693,  -91.48280334],\n",
              "        [  -1.30685282,  -14.70168304, -190.09651184]]], dtype=float32)>"
            ]
          },
          "metadata": {
            "tags": []
          },
          "execution_count": 46
        }
      ]
    },
    {
      "metadata": {
        "id": "eZFx8pThrG5-",
        "colab_type": "text"
      },
      "cell_type": "markdown",
      "source": [
        "We can also (perhaps somewhat less naturally) let broadcasting handle just the first batch dimension:"
      ]
    },
    {
      "metadata": {
        "id": "UoGs7GBSrG5_",
        "colab_type": "code",
        "colab": {
          "height": 118
        },
        "outputId": "a61812b8-428d-4778-8cb6-14f4e8932078"
      },
      "cell_type": "code",
      "source": [
        "poisson_2_by_3.log_prob([[[1., 1., 1.]], [[2., 2., 2.]]])  # Input shape [2, 1, 3]."
      ],
      "execution_count": 0,
      "outputs": [
        {
          "output_type": "execute_result",
          "data": {
            "text/plain": [
              "<tf.Tensor: id=732, shape=(2, 2, 3), dtype=float32, numpy=\n",
              "array([[[  -1.        ,   -7.69741488,  -95.3948288 ],\n",
              "        [  -1.30685282,  -17.00426865, -194.70167542]],\n",
              "\n",
              "       [[  -1.69314718,   -6.08797693,  -91.48280334],\n",
              "        [  -1.30685282,  -14.70168304, -190.09651184]]], dtype=float32)>"
            ]
          },
          "metadata": {
            "tags": []
          },
          "execution_count": 47
        }
      ]
    },
    {
      "metadata": {
        "id": "cOP4OhGDrG6C",
        "colab_type": "text"
      },
      "cell_type": "markdown",
      "source": [
        "Or we could let broadcasting handle *both* batch dimensions:"
      ]
    },
    {
      "metadata": {
        "id": "tnG2f4tZrG6E",
        "colab_type": "code",
        "colab": {
          "height": 118
        },
        "outputId": "699638bf-ac22-4ccd-9a9a-c8cf421b1d05"
      },
      "cell_type": "code",
      "source": [
        "poisson_2_by_3.log_prob([[[1.]], [[2.]]])  # Input shape [2, 1, 1]."
      ],
      "execution_count": 0,
      "outputs": [
        {
          "output_type": "execute_result",
          "data": {
            "text/plain": [
              "<tf.Tensor: id=739, shape=(2, 2, 3), dtype=float32, numpy=\n",
              "array([[[  -1.        ,   -7.69741488,  -95.3948288 ],\n",
              "        [  -1.30685282,  -17.00426865, -194.70167542]],\n",
              "\n",
              "       [[  -1.69314718,   -6.08797693,  -91.48280334],\n",
              "        [  -1.30685282,  -14.70168304, -190.09651184]]], dtype=float32)>"
            ]
          },
          "metadata": {
            "tags": []
          },
          "execution_count": 48
        }
      ]
    },
    {
      "metadata": {
        "id": "I1s1drAwrG6K",
        "colab_type": "text"
      },
      "cell_type": "markdown",
      "source": [
        "The above worked fine when we had only two values we wanted, but suppose we had a long list of values we wanted to evaluate at every batch point. For that, the following notation, which adds extra dimensions of size 1 to the right side of the shape, is extremely useful:"
      ]
    },
    {
      "metadata": {
        "id": "oUxbYZN_rG6K",
        "colab_type": "code",
        "colab": {
          "height": 118
        },
        "outputId": "6311938a-9999-40a4-a287-c9b270af961b"
      },
      "cell_type": "code",
      "source": [
        "poisson_2_by_3.log_prob(tf.constant([1., 2.])[..., tf.newaxis, tf.newaxis])"
      ],
      "execution_count": 0,
      "outputs": [
        {
          "output_type": "execute_result",
          "data": {
            "text/plain": [
              "<tf.Tensor: id=750, shape=(2, 2, 3), dtype=float32, numpy=\n",
              "array([[[  -1.        ,   -7.69741488,  -95.3948288 ],\n",
              "        [  -1.30685282,  -17.00426865, -194.70167542]],\n",
              "\n",
              "       [[  -1.69314718,   -6.08797693,  -91.48280334],\n",
              "        [  -1.30685282,  -14.70168304, -190.09651184]]], dtype=float32)>"
            ]
          },
          "metadata": {
            "tags": []
          },
          "execution_count": 49
        }
      ]
    },
    {
      "metadata": {
        "id": "Se893aIurG6M",
        "colab_type": "text"
      },
      "cell_type": "markdown",
      "source": [
        "This is an instance of [strided slice notation](https://www.tensorflow.org/api_docs/cc/class/tensorflow/ops/strided-slice), which is worth knowing."
      ]
    },
    {
      "metadata": {
        "id": "XNDhHqJmrG6N",
        "colab_type": "text"
      },
      "cell_type": "markdown",
      "source": [
        "Going back to `three_poissons` for completeness, the same example looks like:"
      ]
    },
    {
      "metadata": {
        "id": "zKP7OmQsrG6N",
        "colab_type": "code",
        "colab": {
          "height": 101
        },
        "outputId": "f25ffdbb-10ad-4c52-91e5-1ad05256f00d"
      },
      "cell_type": "code",
      "source": [
        "three_poissons.log_prob([[1.], [10.], [50.], [100.]])"
      ],
      "execution_count": 0,
      "outputs": [
        {
          "output_type": "execute_result",
          "data": {
            "text/plain": [
              "<tf.Tensor: id=757, shape=(4, 3), dtype=float32, numpy=\n",
              "array([[  -1.        ,   -7.69741488,  -95.3948288 ],\n",
              "       [ -16.10441208,   -2.07856083,  -69.05270386],\n",
              "       [-149.47776794,  -43.34851074,  -18.21925354],\n",
              "       [-364.73937988, -143.48086548,   -3.22235107]], dtype=float32)>"
            ]
          },
          "metadata": {
            "tags": []
          },
          "execution_count": 50
        }
      ]
    },
    {
      "metadata": {
        "id": "PK_9DwSdrG6R",
        "colab_type": "code",
        "colab": {
          "height": 101
        },
        "outputId": "f2189ac2-bedc-468e-d0a6-4e145c4f91b1"
      },
      "cell_type": "code",
      "source": [
        "three_poissons.log_prob(tf.constant([1., 10., 50., 100.])[..., tf.newaxis])  # Equivalent to above."
      ],
      "execution_count": 0,
      "outputs": [
        {
          "output_type": "execute_result",
          "data": {
            "text/plain": [
              "<tf.Tensor: id=768, shape=(4, 3), dtype=float32, numpy=\n",
              "array([[  -1.        ,   -7.69741488,  -95.3948288 ],\n",
              "       [ -16.10441208,   -2.07856083,  -69.05270386],\n",
              "       [-149.47776794,  -43.34851074,  -18.21925354],\n",
              "       [-364.73937988, -143.48086548,   -3.22235107]], dtype=float32)>"
            ]
          },
          "metadata": {
            "tags": []
          },
          "execution_count": 51
        }
      ]
    },
    {
      "metadata": {
        "id": "lhL17DW5rG6T",
        "colab_type": "text"
      },
      "cell_type": "markdown",
      "source": [
        "## Multivariate distributions\n",
        "\n",
        "We now turn to multivariate distributions, which have non-empty event shape. Let's look at multinomial distributions."
      ]
    },
    {
      "metadata": {
        "id": "lOdGa5n9rG6T",
        "colab_type": "code",
        "colab": {
          "height": 84
        },
        "outputId": "2ab2657d-15c5-4dbe-c790-a4493089ddb2"
      },
      "cell_type": "code",
      "source": [
        "multinomial_distributions = [\n",
        "    # Multinomial is a vector-valued distribution: if we have k classes,\n",
        "    # an individual sample from the distribution has k values in it, so the\n",
        "    # event_shape is `[k]`.\n",
        "    tfd.Multinomial(total_count=100., probs=[.5, .4, .1],\n",
        "                    name='One Multinomial'),\n",
        "    tfd.Multinomial(total_count=[100., 1000.], probs=[.5, .4, .1],\n",
        "                    name='Two Multinomials Same Probs'),\n",
        "    tfd.Multinomial(total_count=100., probs=[[.5, .4, .1], [.1, .2, .7]],\n",
        "                    name='Two Multinomials Same Counts'),\n",
        "    tfd.Multinomial(total_count=[100., 1000.],\n",
        "                    probs=[[.5, .4, .1], [.1, .2, .7]],\n",
        "                    name='Two Multinomials Different Everything')\n",
        "\n",
        "]\n",
        "\n",
        "describe_distributions(multinomial_distributions)"
      ],
      "execution_count": 0,
      "outputs": [
        {
          "output_type": "stream",
          "text": [
            "tf.distributions.Multinomial(\"One Multinomial\", batch_shape=(), event_shape=(3,), dtype=float32)\n",
            "tf.distributions.Multinomial(\"Two Multinomials Same Probs\", batch_shape=(2,), event_shape=(3,), dtype=float32)\n",
            "tf.distributions.Multinomial(\"Two Multinomials Same Counts\", batch_shape=(2,), event_shape=(3,), dtype=float32)\n",
            "tf.distributions.Multinomial(\"Two Multinomials Different Everything\", batch_shape=(2,), event_shape=(3,), dtype=float32)\n"
          ],
          "name": "stdout"
        }
      ]
    },
    {
      "metadata": {
        "id": "-NQ8gK7irG6W",
        "colab_type": "text"
      },
      "cell_type": "markdown",
      "source": [
        "Note how in the last three examples, the batch_shape is always `[2]`, but we can use broadcasting to either have a shared `total_count` or a shared `probs` (or neither), because under the hood they are broadcast to have the same shape.\n",
        "\n",
        "Sampling is straightforward, given what we know already:"
      ]
    },
    {
      "metadata": {
        "id": "hSr362qjrG6W",
        "colab_type": "code",
        "colab": {
          "height": 689
        },
        "outputId": "44e66abe-c780-4767-9fd5-a9d1b592975c"
      },
      "cell_type": "code",
      "source": [
        "describe_sample_tensor_shapes(multinomial_distributions, sample_shapes)"
      ],
      "execution_count": 0,
      "outputs": [
        {
          "output_type": "stream",
          "text": [
            "tf.distributions.Multinomial(\"One Multinomial\", batch_shape=(), event_shape=(3,), dtype=float32)\n",
            "Sample shape: 1\n",
            "Returned sample tensor shape: (1, 3)\n",
            "Sample shape: 2\n",
            "Returned sample tensor shape: (2, 3)\n",
            "Sample shape: [1, 5]\n",
            "Returned sample tensor shape: (1, 5, 3)\n",
            "Sample shape: [3, 4, 5]\n",
            "Returned sample tensor shape: (3, 4, 5, 3)\n",
            "\n",
            "tf.distributions.Multinomial(\"Two Multinomials Same Probs\", batch_shape=(2,), event_shape=(3,), dtype=float32)\n",
            "Sample shape: 1\n",
            "Returned sample tensor shape: (1, 2, 3)\n",
            "Sample shape: 2\n",
            "Returned sample tensor shape: (2, 2, 3)\n",
            "Sample shape: [1, 5]\n",
            "Returned sample tensor shape: (1, 5, 2, 3)\n",
            "Sample shape: [3, 4, 5]\n",
            "Returned sample tensor shape: (3, 4, 5, 2, 3)\n",
            "\n",
            "tf.distributions.Multinomial(\"Two Multinomials Same Counts\", batch_shape=(2,), event_shape=(3,), dtype=float32)\n",
            "Sample shape: 1\n",
            "Returned sample tensor shape: (1, 2, 3)\n",
            "Sample shape: 2\n",
            "Returned sample tensor shape: (2, 2, 3)\n",
            "Sample shape: [1, 5]\n",
            "Returned sample tensor shape: (1, 5, 2, 3)\n",
            "Sample shape: [3, 4, 5]\n",
            "Returned sample tensor shape: (3, 4, 5, 2, 3)\n",
            "\n",
            "tf.distributions.Multinomial(\"Two Multinomials Different Everything\", batch_shape=(2,), event_shape=(3,), dtype=float32)\n",
            "Sample shape: 1\n",
            "Returned sample tensor shape: (1, 2, 3)\n",
            "Sample shape: 2\n",
            "Returned sample tensor shape: (2, 2, 3)\n",
            "Sample shape: [1, 5]\n",
            "Returned sample tensor shape: (1, 5, 2, 3)\n",
            "Sample shape: [3, 4, 5]\n",
            "Returned sample tensor shape: (3, 4, 5, 2, 3)\n",
            "\n"
          ],
          "name": "stdout"
        }
      ]
    },
    {
      "metadata": {
        "id": "jjXgxPXCrG6Z",
        "colab_type": "text"
      },
      "cell_type": "markdown",
      "source": [
        "Computing log probabilities is equally straightforward. Let's work an example with diagonal Multivariate Normal distributions. (Multinomials are not very broadcast friendly, since the constraints on the counts and probabilities mean broadcasting will often produce inadmissible values.) We'll use a batch of 2 3-dimensional distributions with the same mean but different scales (standard deviations):"
      ]
    },
    {
      "metadata": {
        "id": "cnywBQdZrG6Z",
        "colab_type": "code",
        "colab": {
          "height": 34
        },
        "outputId": "47eb264f-e602-4f2a-dfbf-927c4a5e541f"
      },
      "cell_type": "code",
      "source": [
        "two_multivariate_normals = tfd.MultivariateNormalDiag(loc=[1., 2., 3.], scale_identity_multiplier=[1., 2.])\n",
        "two_multivariate_normals"
      ],
      "execution_count": 0,
      "outputs": [
        {
          "output_type": "execute_result",
          "data": {
            "text/plain": [
              "<tf.distributions.MultivariateNormalDiag 'MultivariateNormalDiag' batch_shape=(2,) event_shape=(3,) dtype=float32>"
            ]
          },
          "metadata": {
            "tags": []
          },
          "execution_count": 57
        }
      ]
    },
    {
      "metadata": {
        "id": "S9xE21IirG6b",
        "colab_type": "text"
      },
      "cell_type": "markdown",
      "source": [
        "(Note that although we used distributions where the scales were multiples of the identity, this is not a restriction on; we could pass `scale` instead of `scale_identity_multiplier`.)\n",
        "\n",
        "Now let's evaluate the log probability of each batch point at its mean and at a shifted mean:"
      ]
    },
    {
      "metadata": {
        "id": "YBOLH33PrG6b",
        "colab_type": "code",
        "colab": {
          "height": 67
        },
        "outputId": "162d3412-2126-4abc-b521-2ba3fe085f7a"
      },
      "cell_type": "code",
      "source": [
        "two_multivariate_normals.log_prob([[[1., 2., 3.]], [[3., 4., 5.]]])  # Input has shape [2,1,3]."
      ],
      "execution_count": 0,
      "outputs": [
        {
          "output_type": "execute_result",
          "data": {
            "text/plain": [
              "<tf.Tensor: id=2563, shape=(2, 2), dtype=float32, numpy=\n",
              "array([[-2.75681543, -4.83625698],\n",
              "       [-8.75681591, -6.33625698]], dtype=float32)>"
            ]
          },
          "metadata": {
            "tags": []
          },
          "execution_count": 59
        }
      ]
    },
    {
      "metadata": {
        "id": "oPDC6y3qrG6e",
        "colab_type": "text"
      },
      "cell_type": "markdown",
      "source": [
        "Exactly equivalently, we can use [https://www.tensorflow.org/api_docs/cc/class/tensorflow/ops/strided-slice](strided slice notation) to insert an extra shape=1 dimension in the middle of a constant:"
      ]
    },
    {
      "metadata": {
        "id": "M9m9GMezrG6f",
        "colab_type": "code",
        "colab": {
          "height": 67
        },
        "outputId": "faf2fab2-65e3-47b5-e1ea-c17452a44ee9"
      },
      "cell_type": "code",
      "source": [
        "two_multivariate_normals.log_prob(\n",
        "    tf.constant([[1., 2., 3.], [3., 4., 5.]])[:, tf.newaxis, :])  # Equivalent to above."
      ],
      "execution_count": 0,
      "outputs": [
        {
          "output_type": "execute_result",
          "data": {
            "text/plain": [
              "<tf.Tensor: id=2727, shape=(2, 2), dtype=float32, numpy=\n",
              "array([[-2.75681543, -4.83625698],\n",
              "       [-8.75681591, -6.33625698]], dtype=float32)>"
            ]
          },
          "metadata": {
            "tags": []
          },
          "execution_count": 61
        }
      ]
    },
    {
      "metadata": {
        "id": "jJA07wN7rG6i",
        "colab_type": "text"
      },
      "cell_type": "markdown",
      "source": [
        "On the other hand, if we don't insert the extra dimension, we pass `[1., 2., 3.]` to the first batch point and `[3., 4., 5.]` to the second:"
      ]
    },
    {
      "metadata": {
        "id": "xaX1unvPrG6i",
        "colab_type": "code",
        "colab": {
          "height": 34
        },
        "outputId": "559e2115-e777-4d17-b4f3-84153f73cf08"
      },
      "cell_type": "code",
      "source": [
        "two_multivariate_normals.log_prob(tf.constant([[1., 2., 3.], [3., 4., 5.]]))"
      ],
      "execution_count": 0,
      "outputs": [
        {
          "output_type": "execute_result",
          "data": {
            "text/plain": [
              "<tf.Tensor: id=2805, shape=(2,), dtype=float32, numpy=array([-2.75681543, -6.33625698], dtype=float32)>"
            ]
          },
          "metadata": {
            "tags": []
          },
          "execution_count": 62
        }
      ]
    },
    {
      "metadata": {
        "id": "JnhW86vcUfT8",
        "colab_type": "text"
      },
      "cell_type": "markdown",
      "source": [
        "## Shape Manipulation Techniques"
      ]
    },
    {
      "metadata": {
        "id": "6EYcFW7OrG6m",
        "colab_type": "text"
      },
      "cell_type": "markdown",
      "source": [
        "### The Reshape Bijector\n",
        "\n",
        "The `Reshape` bijector can be used to reshape the *event_shape* of a distribution. Let's see an example:"
      ]
    },
    {
      "metadata": {
        "id": "1YT_lQCarG6m",
        "colab_type": "code",
        "colab": {
          "height": 34
        },
        "outputId": "a93a28e5-4e39-4e7c-a4c8-73b0961b415a"
      },
      "cell_type": "code",
      "source": [
        "six_way_multinomial = tfd.Multinomial(total_count=1000., probs=[.3, .25, .2, .15, .08, .02])\n",
        "six_way_multinomial"
      ],
      "execution_count": 0,
      "outputs": [
        {
          "output_type": "execute_result",
          "data": {
            "text/plain": [
              "<tf.distributions.Multinomial 'Multinomial' batch_shape=() event_shape=(6,) dtype=float32>"
            ]
          },
          "metadata": {
            "tags": []
          },
          "execution_count": 63
        }
      ]
    },
    {
      "metadata": {
        "id": "c5a5uXQsUpMs",
        "colab_type": "text"
      },
      "cell_type": "markdown",
      "source": [
        "We created a multinomial with an event shape of `[6]`. The Reshape Bijector allows us to treat this as a distribution with an event shape of `[2, 3]`.\n",
        "\n",
        "A `Bijector` represents a differentiable, one-to-one function on an open subset of ${\\mathbb R}^n$. `Bijectors` are used in conjunction with `TransformedDistribution`, which models a distribution $p(y)$ in terms of a base distribution $p(x)$ and a `Bijector` that represents $Y = g(X)$.\n",
        "Let's see it in action:"
      ]
    },
    {
      "metadata": {
        "id": "Wttfn9Q-rG6o",
        "colab_type": "code",
        "colab": {
          "height": 34
        },
        "outputId": "0305e913-0cfa-41cb-e40e-159a9bad7336"
      },
      "cell_type": "code",
      "source": [
        "transformed_multinomial = tfd.TransformedDistribution(\n",
        "    distribution=six_way_multinomial,\n",
        "    bijector=tfb.Reshape(event_shape_out=[2, 3]))\n",
        "transformed_multinomial"
      ],
      "execution_count": 0,
      "outputs": [
        {
          "output_type": "execute_result",
          "data": {
            "text/plain": [
              "<tf.distributions.TransformedDistribution 'reshapeMultinomial' batch_shape=() event_shape=(2, 3) dtype=float32>"
            ]
          },
          "metadata": {
            "tags": []
          },
          "execution_count": 65
        }
      ]
    },
    {
      "metadata": {
        "id": "sh6l4XZdrG6p",
        "colab_type": "code",
        "colab": {
          "height": 34
        },
        "outputId": "51608123-f56a-437e-c42b-9fa041c3e580"
      },
      "cell_type": "code",
      "source": [
        "six_way_multinomial.log_prob([500., 100., 100., 150., 100., 50.])"
      ],
      "execution_count": 0,
      "outputs": [
        {
          "output_type": "execute_result",
          "data": {
            "text/plain": [
              "<tf.Tensor: id=2966, shape=(), dtype=float32, numpy=-178.22021>"
            ]
          },
          "metadata": {
            "tags": []
          },
          "execution_count": 66
        }
      ]
    },
    {
      "metadata": {
        "id": "6nMHlVrArG6r",
        "colab_type": "code",
        "colab": {
          "height": 34
        },
        "outputId": "44253e9c-64a7-43a6-f4ef-c3d0fba889d5"
      },
      "cell_type": "code",
      "source": [
        "transformed_multinomial.log_prob([[500., 100., 100.], [150., 100., 50.]])"
      ],
      "execution_count": 0,
      "outputs": [
        {
          "output_type": "execute_result",
          "data": {
            "text/plain": [
              "<tf.Tensor: id=3006, shape=(), dtype=float32, numpy=-178.22021>"
            ]
          },
          "metadata": {
            "tags": []
          },
          "execution_count": 67
        }
      ]
    },
    {
      "metadata": {
        "id": "dxZNZ02OrG6t",
        "colab_type": "text"
      },
      "cell_type": "markdown",
      "source": [
        "This is the *only* thing the `Reshape` bijector can do: it cannot turn event dimensions into batch dimensions or vice-versa."
      ]
    },
    {
      "metadata": {
        "id": "de7ek-FerG6t",
        "colab_type": "text"
      },
      "cell_type": "markdown",
      "source": [
        "### The Independent Distribution\n",
        "\n",
        "The `Independent` distribution is used to treat a collection of independent, not-necessarily-identical (aka a batch of) distributions as a single distribution. More concisely, `Independent` allows to convert dimensions in `batch_shape` to dimensions in `event_shape`. We'll illustrate by example:"
      ]
    },
    {
      "metadata": {
        "id": "tLwioZPRrG6t",
        "colab_type": "code",
        "colab": {
          "height": 34
        },
        "outputId": "d240ac67-97df-460d-9f10-c58ebb619b07"
      },
      "cell_type": "code",
      "source": [
        "two_by_five_bernoulli = tfd.Bernoulli(\n",
        "    probs=[[.05, .1, .15, .2, .25], [.3, .35, .4, .45, .5]],\n",
        "    name=\"Two By Five Bernoulli\")\n",
        "two_by_five_bernoulli"
      ],
      "execution_count": 0,
      "outputs": [
        {
          "output_type": "execute_result",
          "data": {
            "text/plain": [
              "<tf.distributions.Bernoulli 'Two By Five Bernoulli' batch_shape=(2, 5) event_shape=() dtype=int32>"
            ]
          },
          "metadata": {
            "tags": []
          },
          "execution_count": 78
        }
      ]
    },
    {
      "metadata": {
        "id": "-okVviR3rG6v",
        "colab_type": "text"
      },
      "cell_type": "markdown",
      "source": [
        "We can think of this as two-by-five array of coins with the associated probabilities of heads. Let's evaluate the probability of a particular, arbitrary set of ones-and-zeros:"
      ]
    },
    {
      "metadata": {
        "id": "9yq9jTGIrG6x",
        "colab_type": "code",
        "colab": {
          "height": 67
        },
        "outputId": "d53190ce-f5cc-4204-80c3-fe441d93329c"
      },
      "cell_type": "code",
      "source": [
        "pattern = [[1., 0., 0., 1., 0.], [0., 0., 1., 1., 1.]]\n",
        "two_by_five_bernoulli.log_prob(pattern)"
      ],
      "execution_count": 0,
      "outputs": [
        {
          "output_type": "execute_result",
          "data": {
            "text/plain": [
              "<tf.Tensor: id=3038, shape=(2, 5), dtype=float32, numpy=\n",
              "array([[-2.99573231, -0.1053605 , -0.16251893, -1.60943794, -0.28768203],\n",
              "       [-0.35667494, -0.43078294, -0.91629076, -0.79850775, -0.69314718]], dtype=float32)>"
            ]
          },
          "metadata": {
            "tags": []
          },
          "execution_count": 70
        }
      ]
    },
    {
      "metadata": {
        "id": "C9CA19oPrG6y",
        "colab_type": "text"
      },
      "cell_type": "markdown",
      "source": [
        "We can use `Independent` to turn this into two different \"sets of five Bernoulli's\", which is useful if we want to consider a \"row\" of coin flips coming up in a given pattern as a single outcome:"
      ]
    },
    {
      "metadata": {
        "id": "1iR23BMBrG6z",
        "colab_type": "code",
        "colab": {
          "height": 34
        },
        "outputId": "70231260-c641-4e95-8bcb-75075e9a729a"
      },
      "cell_type": "code",
      "source": [
        "two_sets_of_five = tfd.Independent(\n",
        "    distribution=two_by_five_bernoulli,\n",
        "    reinterpreted_batch_ndims=1,\n",
        "    name=\"Two Sets Of Five\")\n",
        "two_sets_of_five"
      ],
      "execution_count": 0,
      "outputs": [
        {
          "output_type": "execute_result",
          "data": {
            "text/plain": [
              "<tf.distributions.Independent 'Two Sets Of Five' batch_shape=(2,) event_shape=(5,) dtype=int32>"
            ]
          },
          "metadata": {
            "tags": []
          },
          "execution_count": 79
        }
      ]
    },
    {
      "metadata": {
        "id": "mRrkesaPrG67",
        "colab_type": "text"
      },
      "cell_type": "markdown",
      "source": [
        "Mathematically, we're computing the log probability of each \"set\" of five by summing the log probabilities of the five \"independent\" coin flips in the set, which is where the distribution gets its name:"
      ]
    },
    {
      "metadata": {
        "id": "LcM6OgKNrG66",
        "colab_type": "code",
        "colab": {
          "height": 34
        },
        "outputId": "464b8576-3afa-45cd-a500-df7c03b4ca54"
      },
      "cell_type": "code",
      "source": [
        "two_sets_of_five.log_prob(pattern)"
      ],
      "execution_count": 0,
      "outputs": [
        {
          "output_type": "execute_result",
          "data": {
            "text/plain": [
              "<tf.Tensor: id=3178, shape=(2,), dtype=float32, numpy=array([-5.16073179, -3.19540358], dtype=float32)>"
            ]
          },
          "metadata": {
            "tags": []
          },
          "execution_count": 80
        }
      ]
    },
    {
      "metadata": {
        "id": "krpnUVL9rG7A",
        "colab_type": "text"
      },
      "cell_type": "markdown",
      "source": [
        "We can go even further and use `Independent` to create a distribution where individual events are a set of two-by-five Bernoulli's:"
      ]
    },
    {
      "metadata": {
        "id": "PXSsoidirG7A",
        "colab_type": "code",
        "colab": {
          "height": 34
        },
        "outputId": "8d57c4d9-b69c-4820-a9d1-dfadc0b4149f"
      },
      "cell_type": "code",
      "source": [
        "one_set_of_two_by_five = tfd.Independent(\n",
        "    distribution=two_by_five_bernoulli, reinterpreted_batch_ndims=2,\n",
        "    name=\"One Set Of Two By Five\")\n",
        "one_set_of_two_by_five.log_prob(pattern)"
      ],
      "execution_count": 0,
      "outputs": [
        {
          "output_type": "execute_result",
          "data": {
            "text/plain": [
              "<tf.Tensor: id=3197, shape=(), dtype=float32, numpy=-8.3561344>"
            ]
          },
          "metadata": {
            "tags": []
          },
          "execution_count": 82
        }
      ]
    },
    {
      "metadata": {
        "id": "QfbfHA4hrG7F",
        "colab_type": "text"
      },
      "cell_type": "markdown",
      "source": [
        "It's worth noting that from the perspective of `sample`, using `Independent` changes nothing:"
      ]
    },
    {
      "metadata": {
        "id": "uZ3NhQEZrG7F",
        "colab_type": "code",
        "colab": {
          "height": 219
        },
        "outputId": "7d0931f1-ea6f-4a5c-dbef-db46f0782917"
      },
      "cell_type": "code",
      "source": [
        "describe_sample_tensor_shapes(\n",
        "    [two_by_five_bernoulli,\n",
        "     two_sets_of_five,\n",
        "     one_set_of_two_by_five],\n",
        "    [[3, 5]])"
      ],
      "execution_count": 0,
      "outputs": [
        {
          "output_type": "stream",
          "text": [
            "tf.distributions.Bernoulli(\"Two By Five Bernoulli\", batch_shape=(2, 5), event_shape=(), dtype=int32)\n",
            "Sample shape: [3, 5]\n",
            "Returned sample tensor shape: (3, 5, 2, 5)\n",
            "\n",
            "tf.distributions.Independent(\"Two Sets Of Five\", batch_shape=(2,), event_shape=(5,), dtype=int32)\n",
            "Sample shape: [3, 5]\n",
            "Returned sample tensor shape: (3, 5, 2, 5)\n",
            "\n",
            "tf.distributions.Independent(\"One Set Of Two By Five\", batch_shape=(), event_shape=(2, 5), dtype=int32)\n",
            "Sample shape: [3, 5]\n",
            "Returned sample tensor shape: (3, 5, 2, 5)\n",
            "\n"
          ],
          "name": "stdout"
        }
      ]
    },
    {
      "metadata": {
        "id": "usTT7v0trG7H",
        "colab_type": "text"
      },
      "cell_type": "markdown",
      "source": [
        "As a parting exercise for the reader, we suggest considering the differences and similarities between a vector batch of `Normal` distributions and a `MultivariateNormalDiag` distribution from a sampling and log probability perspective. How can we use `Independent` to construct a `MultivariateNormalDiag` from a batch of `Normal`s? (Note that `MultivariateNormalDiag` is not actually implemented this way.)"
      ]
    }
  ]
}