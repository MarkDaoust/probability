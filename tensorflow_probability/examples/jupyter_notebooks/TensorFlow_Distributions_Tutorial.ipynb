{
  "nbformat": 4,
  "nbformat_minor": 0,
  "metadata": {
    "colab": {
      "name": "TensorFlow Distributions: A Gentle Introduction",
      "version": "0.3.2",
      "provenance": [],
      "collapsed_sections": []
    },
    "kernelspec": {
      "display_name": "Python [conda env:tfp]",
      "language": "python",
      "name": "conda-env-tfp-py"
    }
  },
  "cells": [
    {
      "metadata": {
        "id": "DcriL2xPrG3_",
        "colab_type": "text"
      },
      "cell_type": "markdown",
      "source": [
        "# TensorFlow Distributions: A Gentle Introduction\n",
        "\n",
        "<table class=\"tfo-notebook-buttons\" align=\"left\">\n",
        "  <td>\n",
        "    <a target=\"_blank\" href=\"https://colab.research.google.com/github/tensorflow/probability/blob/master/tensorflow_probability/examples/jupyter_notebooks/TensorFlow_Distributions_Tutorial.ipynb\"><img src=\"https://www.tensorflow.org/images/colab_logo_32px.png\" />Run in Google Colab</a>\n",
        "  </td>\n",
        "  <td>\n",
        "    <a target=\"_blank\" href=\"https://github.com/tensorflow/probability/blob/master/tensorflow_probability/examples/jupyter_notebooks/TensorFlow_Distributions_Tutorial.ipynb\"><img src=\"https://www.tensorflow.org/images/GitHub-Mark-32px.png\" />View source on GitHub</a>\n",
        "  </td>\n",
        "</table>"
      ]
    },
    {
      "metadata": {
        "id": "Rh7LswPOZivy",
        "colab_type": "toc"
      },
      "cell_type": "markdown",
      "source": [
        ">[TensorFlow Distributions: A Gentle Introduction](#scrollTo=DcriL2xPrG3_)\n",
        "\n",
        ">>[Basic Univariate Distributions](#scrollTo=QD5lzFZerG4H)\n",
        "\n",
        ">>[Multivariate Distributions](#scrollTo=ztM2d-N9nNX2)\n",
        "\n",
        ">>[Multiple Distributions](#scrollTo=57lLzC7MQV-9)\n",
        "\n",
        ">>[Using Independent To Aggregate Batches to Events](#scrollTo=t52ptQXvUO07)\n",
        "\n",
        ">>[Batches of Multivariate Distirbutions](#scrollTo=INu1viAVXz93)\n",
        "\n",
        ">>[Broadcasting, aka Why Is This So Confusing?](#scrollTo=72uiME85SmEH)\n",
        "\n",
        ">>[Going Farther](#scrollTo=JpjjIGThrj8Q)\n",
        "\n"
      ]
    },
    {
      "metadata": {
        "id": "10i0wSQfJClb",
        "colab_type": "text"
      },
      "cell_type": "markdown",
      "source": [
        "In this notebook, we'll explore TensorFlow Distributions (TFD for short). The goal of this notebook is to get you gently up the learning curve, including understanding TFD's handling of tensor shapes. This notebook tries to present examples before rather than abstract concepts. We'll present canonical easy ways to do things first, and save the most general abstract view until the end. If you're the type who prefers a more abstract and reference-style tutorial, check out [Understanding TensorFlow Distributions Shapes](https://github.com/tensorflow/probability/blob/master/tensorflow_probability/examples/jupyter_notebooks/Understanding_TensorFlow_Distributions_Shapes.ipynb). If you have any questions about the material here, don't hesitate to contact (or join) [the TensorFlow Probability mailing list](https://groups.google.com/a/tensorflow.org/forum/#!forum/tfprobability). We're happy to help."
      ]
    },
    {
      "metadata": {
        "id": "kII2QSIEJn0X",
        "colab_type": "text"
      },
      "cell_type": "markdown",
      "source": [
        "Before we start, we need to import the appropriate libraries. Our overall library is `tensorflow_probability`. By convention, we generally refer to the distributions library as `tfd`.\n",
        "\n",
        "[Tensorflow Eager](https://www.tensorflow.org/guide/eager) is an imperative execution environment for TensorFlow. In TensorFlow eager, every TF operation is immediately evaluated and produces a result. This is in contrast to TensorFlow's standard \"graph\" mode, in which TF operations add nodes to a graph which is later executed. This entire notebook is written using TF Eager, although none of the concepts presented here rely on that, and TFP can be used in graph mode."
      ]
    },
    {
      "metadata": {
        "id": "wRbk6w-C9oaR",
        "colab_type": "code",
        "colab": {}
      },
      "cell_type": "code",
      "source": [
        "!pip install tensorflow_probability"
      ],
      "execution_count": 0,
      "outputs": []
    },
    {
      "metadata": {
        "id": "J6t0EUihrG4B",
        "colab_type": "code",
        "colab": {}
      },
      "cell_type": "code",
      "source": [
        "import tensorflow as tf\n",
        "import tensorflow_probability as tfp\n",
        "tfd = tfp.distributions\n",
        "\n",
        "tfe = tf.contrib.eager\n",
        "tfe.enable_eager_execution()\n",
        "\n",
        "import matplotlib.pyplot as plt\n",
        "\n",
        "from __future__ import print_function"
      ],
      "execution_count": 0,
      "outputs": []
    },
    {
      "metadata": {
        "id": "QD5lzFZerG4H",
        "colab_type": "text"
      },
      "cell_type": "markdown",
      "source": [
        "## Basic Univariate Distributions\n"
      ]
    },
    {
      "metadata": {
        "id": "Gos16Z82LSQQ",
        "colab_type": "text"
      },
      "cell_type": "markdown",
      "source": [
        "Let's dive right in and create a normal distribution:"
      ]
    },
    {
      "metadata": {
        "id": "r3zofkWpLEvY",
        "colab_type": "code",
        "colab": {
          "height": 33
        },
        "outputId": "e3ecc3bc-0ecf-445a-9c13-1c64ab0615c7"
      },
      "cell_type": "code",
      "source": [
        "n = tfd.Normal(loc=0., scale=1.)\n",
        "n"
      ],
      "execution_count": 0,
      "outputs": [
        {
          "output_type": "execute_result",
          "data": {
            "text/plain": [
              "<tf.distributions.Normal 'Normal/' batch_shape=() event_shape=() dtype=float32>"
            ]
          },
          "metadata": {
            "tags": []
          },
          "execution_count": 3
        }
      ]
    },
    {
      "metadata": {
        "id": "7rlXP5HaLVsc",
        "colab_type": "text"
      },
      "cell_type": "markdown",
      "source": [
        "We can draw a sample from it:"
      ]
    },
    {
      "metadata": {
        "id": "14RRJONELX3O",
        "colab_type": "code",
        "colab": {
          "height": 33
        },
        "outputId": "049e5f0f-7b9d-4055-e1e6-f66b5b21feef"
      },
      "cell_type": "code",
      "source": [
        "n.sample()"
      ],
      "execution_count": 0,
      "outputs": [
        {
          "output_type": "execute_result",
          "data": {
            "text/plain": [
              "<tf.Tensor: id=23, shape=(), dtype=float32, numpy=-0.16601132>"
            ]
          },
          "metadata": {
            "tags": []
          },
          "execution_count": 4
        }
      ]
    },
    {
      "metadata": {
        "id": "NsDAltf5Le33",
        "colab_type": "text"
      },
      "cell_type": "markdown",
      "source": [
        "We can draw multiple samples:"
      ]
    },
    {
      "metadata": {
        "id": "v5jdTzbqLhrl",
        "colab_type": "code",
        "colab": {
          "height": 33
        },
        "outputId": "e62a2ae5-4001-4055-cc11-5efd42f07c9c"
      },
      "cell_type": "code",
      "source": [
        "n.sample(3)"
      ],
      "execution_count": 0,
      "outputs": [
        {
          "output_type": "execute_result",
          "data": {
            "text/plain": [
              "<tf.Tensor: id=44, shape=(3,), dtype=float32, numpy=array([-0.740354  , -0.1778658 , -1.27472067], dtype=float32)>"
            ]
          },
          "metadata": {
            "tags": []
          },
          "execution_count": 5
        }
      ]
    },
    {
      "metadata": {
        "id": "4wX5cjUXLmrD",
        "colab_type": "text"
      },
      "cell_type": "markdown",
      "source": [
        "We can evaluate a log prob:"
      ]
    },
    {
      "metadata": {
        "id": "hrCTzv2cLoLw",
        "colab_type": "code",
        "colab": {
          "height": 33
        },
        "outputId": "605993fd-22e7-4602-e61e-52e1854b1c56"
      },
      "cell_type": "code",
      "source": [
        "n.log_prob(0.)"
      ],
      "execution_count": 0,
      "outputs": [
        {
          "output_type": "execute_result",
          "data": {
            "text/plain": [
              "<tf.Tensor: id=55, shape=(), dtype=float32, numpy=-0.91893852>"
            ]
          },
          "metadata": {
            "tags": []
          },
          "execution_count": 6
        }
      ]
    },
    {
      "metadata": {
        "id": "lHYIb0psLrzE",
        "colab_type": "text"
      },
      "cell_type": "markdown",
      "source": [
        "We can evaluate multiple log probabilities:"
      ]
    },
    {
      "metadata": {
        "id": "4dgwzazNLw6H",
        "colab_type": "code",
        "colab": {
          "height": 33
        },
        "outputId": "dcef21a8-b0c8-4227-c89e-d4735644fa5f"
      },
      "cell_type": "code",
      "source": [
        "n.log_prob([0., 2., 4.])"
      ],
      "execution_count": 0,
      "outputs": [
        {
          "output_type": "execute_result",
          "data": {
            "text/plain": [
              "<tf.Tensor: id=64, shape=(3,), dtype=float32, numpy=array([-0.91893852, -2.91893864, -8.91893864], dtype=float32)>"
            ]
          },
          "metadata": {
            "tags": []
          },
          "execution_count": 7
        }
      ]
    },
    {
      "metadata": {
        "id": "mY5hHMClL-i1",
        "colab_type": "text"
      },
      "cell_type": "markdown",
      "source": [
        "We have a wide range of distributions. Let's try a Bernoulli:"
      ]
    },
    {
      "metadata": {
        "id": "OIJErPQWMDfP",
        "colab_type": "code",
        "colab": {
          "height": 33
        },
        "outputId": "d454f69b-3de7-4fd2-a6ac-a0080c0436cf"
      },
      "cell_type": "code",
      "source": [
        "b = tfd.Bernoulli(probs=0.7)\n",
        "b"
      ],
      "execution_count": 0,
      "outputs": [
        {
          "output_type": "execute_result",
          "data": {
            "text/plain": [
              "<tf.distributions.Bernoulli 'Bernoulli/' batch_shape=() event_shape=() dtype=int32>"
            ]
          },
          "metadata": {
            "tags": []
          },
          "execution_count": 8
        }
      ]
    },
    {
      "metadata": {
        "id": "oqDcgYE8Mck2",
        "colab_type": "code",
        "colab": {
          "height": 33
        },
        "outputId": "ad0174d0-1b10-493f-cd8c-c45fc07e1702"
      },
      "cell_type": "code",
      "source": [
        "b.sample()"
      ],
      "execution_count": 0,
      "outputs": [
        {
          "output_type": "execute_result",
          "data": {
            "text/plain": [
              "<tf.Tensor: id=92, shape=(), dtype=int32, numpy=1>"
            ]
          },
          "metadata": {
            "tags": []
          },
          "execution_count": 9
        }
      ]
    },
    {
      "metadata": {
        "id": "6HbbzPNTMgXh",
        "colab_type": "code",
        "colab": {
          "height": 33
        },
        "outputId": "ea5ad3dd-5171-4b32-bdb1-8bf8bf92f3f2"
      },
      "cell_type": "code",
      "source": [
        "b.sample(8)"
      ],
      "execution_count": 0,
      "outputs": [
        {
          "output_type": "execute_result",
          "data": {
            "text/plain": [
              "<tf.Tensor: id=114, shape=(8,), dtype=int32, numpy=array([1, 0, 0, 1, 1, 1, 0, 0], dtype=int32)>"
            ]
          },
          "metadata": {
            "tags": []
          },
          "execution_count": 10
        }
      ]
    },
    {
      "metadata": {
        "id": "LNy0tIKmMuL3",
        "colab_type": "code",
        "colab": {
          "height": 33
        },
        "outputId": "f20b56ad-827a-46f3-b9e0-5beac03861eb"
      },
      "cell_type": "code",
      "source": [
        "b.log_prob(1)"
      ],
      "execution_count": 0,
      "outputs": [
        {
          "output_type": "execute_result",
          "data": {
            "text/plain": [
              "<tf.Tensor: id=129, shape=(), dtype=float32, numpy=-0.35667494>"
            ]
          },
          "metadata": {
            "tags": []
          },
          "execution_count": 11
        }
      ]
    },
    {
      "metadata": {
        "id": "sghhA8onM0IN",
        "colab_type": "code",
        "colab": {
          "height": 33
        },
        "outputId": "4050509d-19ae-4f1f-93ac-c8bd23f8b040"
      },
      "cell_type": "code",
      "source": [
        "b.log_prob([1, 0, 1, 0])"
      ],
      "execution_count": 0,
      "outputs": [
        {
          "output_type": "execute_result",
          "data": {
            "text/plain": [
              "<tf.Tensor: id=149, shape=(4,), dtype=float32, numpy=array([-0.35667494, -1.20397282, -0.35667494, -1.20397282], dtype=float32)>"
            ]
          },
          "metadata": {
            "tags": []
          },
          "execution_count": 12
        }
      ]
    },
    {
      "metadata": {
        "id": "ztM2d-N9nNX2",
        "colab_type": "text"
      },
      "cell_type": "markdown",
      "source": [
        "## Multivariate Distributions"
      ]
    },
    {
      "metadata": {
        "id": "MT2ZyGCoHMla",
        "colab_type": "text"
      },
      "cell_type": "markdown",
      "source": [
        "We'll create a multivariate normal with a diagonal covariance:"
      ]
    },
    {
      "metadata": {
        "id": "MuFrhR4enQI5",
        "colab_type": "code",
        "colab": {
          "height": 33
        },
        "outputId": "1c29b175-93b7-4a99-e34a-3c868ba8c07b"
      },
      "cell_type": "code",
      "source": [
        "nd = tfd.MultivariateNormalDiag(loc=[0., 10.], scale_diag=[1., 4.])\n",
        "nd"
      ],
      "execution_count": 0,
      "outputs": [
        {
          "output_type": "execute_result",
          "data": {
            "text/plain": [
              "<tf.distributions.MultivariateNormalDiag 'MultivariateNormalDiag/' batch_shape=() event_shape=(2,) dtype=float32>"
            ]
          },
          "metadata": {
            "tags": []
          },
          "execution_count": 13
        }
      ]
    },
    {
      "metadata": {
        "id": "QUcnlm3vHFRj",
        "colab_type": "text"
      },
      "cell_type": "markdown",
      "source": [
        "Comparing this to the univariate normal we created earlier, what's different? "
      ]
    },
    {
      "metadata": {
        "id": "ggInhJ-LHVhR",
        "colab_type": "code",
        "colab": {
          "height": 33
        },
        "outputId": "0d566ee2-5c4a-42f0-eafe-a7541b8640d1"
      },
      "cell_type": "code",
      "source": [
        "tfd.Normal(loc=0., scale=1.)"
      ],
      "execution_count": 0,
      "outputs": [
        {
          "output_type": "execute_result",
          "data": {
            "text/plain": [
              "<tf.distributions.Normal 'Normal/' batch_shape=() event_shape=() dtype=float32>"
            ]
          },
          "metadata": {
            "tags": []
          },
          "execution_count": 14
        }
      ]
    },
    {
      "metadata": {
        "id": "0ze8A19LnqO5",
        "colab_type": "text"
      },
      "cell_type": "markdown",
      "source": [
        "We see that the univariate normal has an `event_shape` of `()`, indicating it's a scalar distribution. The multivariate normal has an `event_shape` of `2`, indicating the basic [event space](https://en.wikipedia.org/wiki/Event_(probability_theory&#41;) of this distribution is two-dimensional."
      ]
    },
    {
      "metadata": {
        "id": "lJTTGCuuHpf5",
        "colab_type": "text"
      },
      "cell_type": "markdown",
      "source": [
        "Sampling works just as before:"
      ]
    },
    {
      "metadata": {
        "id": "xQzfj0vHnw-5",
        "colab_type": "code",
        "colab": {
          "height": 33
        },
        "outputId": "abf4e26c-d278-42ee-81c8-69285975ff02"
      },
      "cell_type": "code",
      "source": [
        "nd.sample()"
      ],
      "execution_count": 0,
      "outputs": [
        {
          "output_type": "execute_result",
          "data": {
            "text/plain": [
              "<tf.Tensor: id=317, shape=(2,), dtype=float32, numpy=array([ -2.16430044,  10.37543201], dtype=float32)>"
            ]
          },
          "metadata": {
            "tags": []
          },
          "execution_count": 15
        }
      ]
    },
    {
      "metadata": {
        "id": "dSyxxVmNnzT1",
        "colab_type": "code",
        "colab": {
          "height": 116
        },
        "outputId": "5b5ba24d-7ccb-4d05-da97-3ddf00139143"
      },
      "cell_type": "code",
      "source": [
        "nd.sample(5)"
      ],
      "execution_count": 0,
      "outputs": [
        {
          "output_type": "execute_result",
          "data": {
            "text/plain": [
              "<tf.Tensor: id=425, shape=(5, 2), dtype=float32, numpy=\n",
              "array([[ -0.21695504,  12.464674  ],\n",
              "       [ -0.12954073,   8.3900528 ],\n",
              "       [  0.05821768,   7.45994711],\n",
              "       [ -0.76251912,  14.93200302],\n",
              "       [  0.15911509,  10.37340355]], dtype=float32)>"
            ]
          },
          "metadata": {
            "tags": []
          },
          "execution_count": 16
        }
      ]
    },
    {
      "metadata": {
        "id": "SC0fmV3hn0Zp",
        "colab_type": "code",
        "colab": {
          "height": 33
        },
        "outputId": "ff0649ee-dfc3-46b9-c8e9-54519ca82d28"
      },
      "cell_type": "code",
      "source": [
        "nd.log_prob([0., 10])"
      ],
      "execution_count": 0,
      "outputs": [
        {
          "output_type": "execute_result",
          "data": {
            "text/plain": [
              "<tf.Tensor: id=5090, shape=(3,), dtype=float32, numpy=array([-52.33789825, -49.81270218, -57.69403076], dtype=float32)>"
            ]
          },
          "metadata": {
            "tags": []
          },
          "execution_count": 50
        }
      ]
    },
    {
      "metadata": {
        "id": "lmI_pjVJIT4I",
        "colab_type": "text"
      },
      "cell_type": "markdown",
      "source": [
        "Multivariate normals do not in general have diagonal covariance. TFD offers multiple ways to create multivariate normals, including a full-covariance specification, which we use here."
      ]
    },
    {
      "metadata": {
        "id": "qPEWjisBolk2",
        "colab_type": "code",
        "colab": {
          "height": 285
        },
        "outputId": "cd179138-441d-4308-a828-f428de6485f0"
      },
      "cell_type": "code",
      "source": [
        "nd = tfd.MultivariateNormalFullCovariance(\n",
        "    loc = [0., 5], covariance_matrix = [[1., .7], [.7, 1.]])\n",
        "data = nd.sample(200)\n",
        "plt.scatter(data[:, 0], data[:, 1], color='blue', alpha=0.4)\n",
        "plt.axis([-5, 5, 0, 10])\n",
        "plt.title(\"Data set\")\n",
        "plt.show()"
      ],
      "execution_count": 0,
      "outputs": [
        {
          "output_type": "display_data",
          "data": {
            "image/png": "[encoded data removed]",
            "text/plain": [
              "<matplotlib.figure.Figure at 0x7f342f627650>"
            ]
          },
          "metadata": {
            "tags": []
          }
        }
      ]
    },
    {
      "metadata": {
        "id": "57lLzC7MQV-9",
        "colab_type": "text"
      },
      "cell_type": "markdown",
      "source": [
        "## Multiple Distributions"
      ]
    },
    {
      "metadata": {
        "id": "aRYY7-KvQupB",
        "colab_type": "text"
      },
      "cell_type": "markdown",
      "source": [
        "Our first Bernoulli distribution represented a flip of a single fair coin. We can also create a batch of independent Bernoulli distributions, each with their own parameters, in a single `Distribution` object:"
      ]
    },
    {
      "metadata": {
        "id": "as9fo-XtRAFo",
        "colab_type": "code",
        "colab": {
          "height": 33
        },
        "outputId": "63693552-6d72-4cb5-bc88-ce9d08bbefee"
      },
      "cell_type": "code",
      "source": [
        "b3 = tfd.Bernoulli(probs=[.3, .5, .7])\n",
        "b3"
      ],
      "execution_count": 0,
      "outputs": [
        {
          "output_type": "execute_result",
          "data": {
            "text/plain": [
              "<tf.distributions.Bernoulli 'Bernoulli/' batch_shape=(3,) event_shape=() dtype=int32>"
            ]
          },
          "metadata": {
            "tags": []
          },
          "execution_count": 19
        }
      ]
    },
    {
      "metadata": {
        "id": "x_7t57XzRGVD",
        "colab_type": "text"
      },
      "cell_type": "markdown",
      "source": [
        "It's important to be clear on what this means. The above call defines three independent Bernoulli distributions, which happen to be contained in the same Python `Distribution` object. The three distributions cannot be manipulated individually. Note how the `batch_shape` is `(3,)`, indicating a batch of three distributions, and the `event_shape` is `()`, indicating the individual distributions have a univariate event space.\n",
        "\n",
        "\n",
        "If we call `sample`, we get a sample from all three:"
      ]
    },
    {
      "metadata": {
        "id": "bQQJ_N7XRkuh",
        "colab_type": "code",
        "colab": {
          "height": 33
        },
        "outputId": "7a9c65ca-aa5c-462d-f2b3-ab331552cd8f"
      },
      "cell_type": "code",
      "source": [
        "b3.sample()"
      ],
      "execution_count": 0,
      "outputs": [
        {
          "output_type": "execute_result",
          "data": {
            "text/plain": [
              "<tf.Tensor: id=3928, shape=(3,), dtype=int32, numpy=array([0, 0, 1], dtype=int32)>"
            ]
          },
          "metadata": {
            "tags": []
          },
          "execution_count": 20
        }
      ]
    },
    {
      "metadata": {
        "id": "aM6JOl3HSQb3",
        "colab_type": "code",
        "colab": {
          "height": 133
        },
        "outputId": "ead96874-c738-4e84-d72a-8ea5dfb87ca0"
      },
      "cell_type": "code",
      "source": [
        "b3.sample(6)"
      ],
      "execution_count": 0,
      "outputs": [
        {
          "output_type": "execute_result",
          "data": {
            "text/plain": [
              "<tf.Tensor: id=3950, shape=(6, 3), dtype=int32, numpy=\n",
              "array([[0, 1, 0],\n",
              "       [0, 1, 0],\n",
              "       [1, 0, 1],\n",
              "       [0, 0, 1],\n",
              "       [0, 1, 0],\n",
              "       [0, 1, 1]], dtype=int32)>"
            ]
          },
          "metadata": {
            "tags": []
          },
          "execution_count": 21
        }
      ]
    },
    {
      "metadata": {
        "id": "7NRbaUyLR2yf",
        "colab_type": "text"
      },
      "cell_type": "markdown",
      "source": [
        "If we call  `prob`, (this has the same shape semantics as `log_prob`; we use `prob` with these small Bernoulli examples for clarity, although `log_prob` is usually preferred in applications) we can pass it a vector and evaluate the probability of each coin yielding that value:"
      ]
    },
    {
      "metadata": {
        "id": "UKRV_z47NUV9",
        "colab_type": "code",
        "colab": {
          "height": 33
        },
        "outputId": "0017ee1a-458a-4b4d-eca6-2df1e591726e"
      },
      "cell_type": "code",
      "source": [
        "b3.prob([1, 1, 0])"
      ],
      "execution_count": 0,
      "outputs": [
        {
          "output_type": "execute_result",
          "data": {
            "text/plain": [
              "<tf.Tensor: id=3981, shape=(3,), dtype=float32, numpy=array([ 0.29999998,  0.5       ,  0.29999998], dtype=float32)>"
            ]
          },
          "metadata": {
            "tags": []
          },
          "execution_count": 23
        }
      ]
    },
    {
      "metadata": {
        "id": "Y3MexqrtREPP",
        "colab_type": "text"
      },
      "cell_type": "markdown",
      "source": [
        "Why does the API include batch shape? Semantically, one could perform the same computations by creating a list of distributions and iterating over them with a `for` loop (at least in Eager mode, in TF graph mode you'd need a `tf.while` loop). However, having a (potentially large) set of identically parameterized distributions is extremely common, and the use of vectorized computations whenever possible is a key ingredient in being able to perform fast computations using hardware accelerators."
      ]
    },
    {
      "metadata": {
        "id": "t52ptQXvUO07",
        "colab_type": "text"
      },
      "cell_type": "markdown",
      "source": [
        "## Using Independent To Aggregate Batches to Events"
      ]
    },
    {
      "metadata": {
        "id": "oN3mut1NTOXX",
        "colab_type": "text"
      },
      "cell_type": "markdown",
      "source": [
        "In the previous section, we created `b3`, a single `Distribution` object that represented three coin flips. If we called `b3.prob` on a vector $v$, the $i$'th entry was the probability that the $i$th coin takes value $v[i]$.\n",
        "\n",
        "Suppose we'd instead like to specify a \"joint\" distribution over independent random variables from the same underlying family. This is a different object mathematically, in that for this new distribution, `prob` on a vector $v$ will return a single value representing the probability that the entire set of coins matches the vector $v$.\n",
        "\n",
        "How do we accomplish this? We use a \"higher-order\" distribution called `Independent`, which takes a distribution and yields a new distribution with the batch shape moved to the event shape:"
      ]
    },
    {
      "metadata": {
        "id": "V_DcGAG2Tqxj",
        "colab_type": "code",
        "colab": {
          "height": 33
        },
        "outputId": "8b40bb89-fac5-40a0-c92e-13d763d52e33"
      },
      "cell_type": "code",
      "source": [
        "b3_joint = tfd.Independent(b3, reinterpreted_batch_ndims=1)\n",
        "b3_joint"
      ],
      "execution_count": 0,
      "outputs": [
        {
          "output_type": "execute_result",
          "data": {
            "text/plain": [
              "<tf.distributions.Independent 'IndependentBernoulli/' batch_shape=() event_shape=(3,) dtype=int32>"
            ]
          },
          "metadata": {
            "tags": []
          },
          "execution_count": 26
        }
      ]
    },
    {
      "metadata": {
        "id": "Zkv5TRVFVLUo",
        "colab_type": "text"
      },
      "cell_type": "markdown",
      "source": [
        "Compare the shape to that of the original `b3`:"
      ]
    },
    {
      "metadata": {
        "id": "5bBsLX-6VT36",
        "colab_type": "code",
        "colab": {
          "height": 33
        },
        "outputId": "c0f7929d-444e-44f2-9a3b-466e85454327"
      },
      "cell_type": "code",
      "source": [
        "b3"
      ],
      "execution_count": 0,
      "outputs": [
        {
          "output_type": "execute_result",
          "data": {
            "text/plain": [
              "<tf.distributions.Bernoulli 'Bernoulli/' batch_shape=(3,) event_shape=() dtype=int32>"
            ]
          },
          "metadata": {
            "tags": []
          },
          "execution_count": 27
        }
      ]
    },
    {
      "metadata": {
        "id": "0uveNoPNVVYy",
        "colab_type": "text"
      },
      "cell_type": "markdown",
      "source": [
        "As promised, we see that that `Independent` has moved the batch shape into the event shape: `b3_joint` is a single distribution (`batch_shape = ()`) over a three-dimensional event space (`event_shape = (3,)`).\n",
        "\n",
        "Let's check the semantics:"
      ]
    },
    {
      "metadata": {
        "id": "eDsO2gLcVlY9",
        "colab_type": "code",
        "colab": {
          "height": 33
        },
        "outputId": "1df2331c-e46b-4b5d-e246-dfa2db40f80e"
      },
      "cell_type": "code",
      "source": [
        "b3_joint.prob([1, 1, 0])"
      ],
      "execution_count": 0,
      "outputs": [
        {
          "output_type": "execute_result",
          "data": {
            "text/plain": [
              "<tf.Tensor: id=4000, shape=(), dtype=float32, numpy=0.044999998>"
            ]
          },
          "metadata": {
            "tags": []
          },
          "execution_count": 28
        }
      ]
    },
    {
      "metadata": {
        "id": "IktKInQ5WQJz",
        "colab_type": "text"
      },
      "cell_type": "markdown",
      "source": [
        "An alternate way to get the same result would be to compute probabilities using `b3` and do the reduction manually by multiplying (or, in the more usual case where log probabilities are used, summing):"
      ]
    },
    {
      "metadata": {
        "id": "rRIVEchSV-RZ",
        "colab_type": "code",
        "colab": {
          "height": 33
        },
        "outputId": "e53bbf3c-e065-44bd-97b3-ceeddd9bf6d5"
      },
      "cell_type": "code",
      "source": [
        "tf.reduce_prod(b3.prob([1, 1, 0]))"
      ],
      "execution_count": 0,
      "outputs": [
        {
          "output_type": "execute_result",
          "data": {
            "text/plain": [
              "<tf.Tensor: id=4057, shape=(), dtype=float32, numpy=0.044999994>"
            ]
          },
          "metadata": {
            "tags": []
          },
          "execution_count": 31
        }
      ]
    },
    {
      "metadata": {
        "id": "ikayH3d2Wcf-",
        "colab_type": "text"
      },
      "cell_type": "markdown",
      "source": [
        "`Indpendent` allows the user to more explicitly represent the desired concept. We view this as extremely useful, although it's not strictly necessary."
      ]
    },
    {
      "metadata": {
        "id": "wVivnv1qWi9f",
        "colab_type": "text"
      },
      "cell_type": "markdown",
      "source": [
        "Fun facts:\n",
        "\n",
        "\n",
        "*   `b3.sample` and `b3_joint.sample` have different conceptual implementations, but indistinguishable outputs: the difference between a batch of independent distributions and a single distribution created from the batch using `Independent` shows up when computing probabilites, not when sampling.\n",
        "*   `MultivariateNormalDiag` could be trivially implemented using the scalar `Normal` and `Independent` distributions (it isn't actually implemented this way, but it could be).\n",
        "\n"
      ]
    },
    {
      "metadata": {
        "id": "INu1viAVXz93",
        "colab_type": "text"
      },
      "cell_type": "markdown",
      "source": [
        "## Batches of Multivariate Distirbutions"
      ]
    },
    {
      "metadata": {
        "id": "G_cEhLU-Tjhm",
        "colab_type": "text"
      },
      "cell_type": "markdown",
      "source": [
        "Let's create a batch of three full-covariance two-dimensional multivariate normals: "
      ]
    },
    {
      "metadata": {
        "id": "mtxwqizfTwKi",
        "colab_type": "code",
        "colab": {
          "height": 33
        },
        "outputId": "3eee9b9d-4c76-49aa-bd42-608b670941da"
      },
      "cell_type": "code",
      "source": [
        "ndb = tfd.MultivariateNormalFullCovariance(\n",
        "    loc = [[0., 0.], [1., 1.], [2., 2.]],\n",
        "    covariance_matrix = [[[1., .1], [.1, 1.]], \n",
        "                         [[1., .3], [.3, 1.]],\n",
        "                         [[1., .5], [.5, 1.]]])\n",
        "nd_batch"
      ],
      "execution_count": 0,
      "outputs": [
        {
          "output_type": "execute_result",
          "data": {
            "text/plain": [
              "<tf.distributions.MultivariateNormalFullCovariance 'MultivariateNormalFullCovariance/' batch_shape=(3,) event_shape=(2,) dtype=float32>"
            ]
          },
          "metadata": {
            "tags": []
          },
          "execution_count": 40
        }
      ]
    },
    {
      "metadata": {
        "id": "osDjz1vXUVkr",
        "colab_type": "text"
      },
      "cell_type": "markdown",
      "source": [
        "We see `batch_shape = (3,)`, so there are three independent multivariate normals, and `event_shape =  (2,)`, so each multivariate normal is two-dimensional. In this example, the individual distributions do not have independent elements.\n",
        "\n",
        "Sampling works:"
      ]
    },
    {
      "metadata": {
        "id": "82u32RUpYKeK",
        "colab_type": "code",
        "colab": {
          "height": 283
        },
        "outputId": "fd1e9d0d-efb0-4c09-d69d-e646a32505d1"
      },
      "cell_type": "code",
      "source": [
        "ndb.sample(4)"
      ],
      "execution_count": 0,
      "outputs": [
        {
          "output_type": "execute_result",
          "data": {
            "text/plain": [
              "<tf.Tensor: id=4880, shape=(4, 3, 2), dtype=float32, numpy=\n",
              "array([[[ 1.03979266,  0.70089221],\n",
              "        [ 1.30253124,  2.85808134],\n",
              "        [ 1.28462911,  0.01840127]],\n",
              "\n",
              "       [[-0.21262586, -0.28597227],\n",
              "        [ 1.00358534,  0.92838609],\n",
              "        [ 3.82028437,  2.69798875]],\n",
              "\n",
              "       [[ 0.53138286,  1.07172573],\n",
              "        [-1.31415272, -0.20954728],\n",
              "        [ 3.37388372,  2.27213693]],\n",
              "\n",
              "       [[-0.06502937, -1.67046118],\n",
              "        [-0.33040583,  0.19108027],\n",
              "        [ 2.1181767 ,  1.12826622]]], dtype=float32)>"
            ]
          },
          "metadata": {
            "tags": []
          },
          "execution_count": 41
        }
      ]
    },
    {
      "metadata": {
        "id": "2I-cYckNYTmf",
        "colab_type": "text"
      },
      "cell_type": "markdown",
      "source": [
        "Since `batch_shape = (3,)` and `event_shape = (2,)`, we pass a tensor of shape `(3, 2)` to `log_prob`:"
      ]
    },
    {
      "metadata": {
        "id": "-7p02_66YRpX",
        "colab_type": "code",
        "colab": {
          "height": 33
        },
        "outputId": "1ad677a9-c5ab-4bcc-b879-a1498da22436"
      },
      "cell_type": "code",
      "source": [
        "nd_batch.log_prob([[0., 0.], [1., 1.], [2., 2.]])"
      ],
      "execution_count": 0,
      "outputs": [
        {
          "output_type": "execute_result",
          "data": {
            "text/plain": [
              "<tf.Tensor: id=4961, shape=(3,), dtype=float32, numpy=array([-1.83285189, -1.79072165, -1.69403601], dtype=float32)>"
            ]
          },
          "metadata": {
            "tags": []
          },
          "execution_count": 42
        }
      ]
    },
    {
      "metadata": {
        "id": "72uiME85SmEH",
        "colab_type": "text"
      },
      "cell_type": "markdown",
      "source": [
        "## Broadcasting, aka Why Is This So Confusing?"
      ]
    },
    {
      "metadata": {
        "id": "3aWnXjyYZYtp",
        "colab_type": "text"
      },
      "cell_type": "markdown",
      "source": [
        "Abstracting out what we've done so far, every distribution has an batch shape `B` and an event shape `E`. Let `BE` be the concatenation of the event shapes:\n",
        "\n",
        "\n",
        "* For the univariate scalar distributions `n` and `b`, `BE = ().`.\n",
        "* For the two-dimensional multivariate normals `nd`. `BE = (2).`\n",
        "* For both `b3` and `b3_joint`, `BE = (3).`\n",
        "* For the batch of multivariate normals `ndb`, `BE = (3, 2).`\n",
        "\n",
        "The \"evaluation rules\" we've been using so far are:\n",
        "\n",
        "*   Sample with no argument returns a tensor with shape `BE`; sampling with a scalar n returns an \"n by `BE`\" tensor.\n",
        "*   `prob` and `log_prob` take a tensor of shape `BE` and return a result of shape `B`.\n",
        "\n",
        "The actual \"evaluation rule\" for `prob` and `log_prob` is more complicated, in a way that offers potential power and speed but also complexity and challenges.  The actual rule is (essentially) that **the argument to `log_prob` *must*  be [broadcastable](https://docs.scipy.org/doc/numpy/user/basics.broadcasting.html) against `BE`; any \"extra\" dimensions are preserved in the output.** "
      ]
    },
    {
      "metadata": {
        "id": "iwv81UjpmlkX",
        "colab_type": "text"
      },
      "cell_type": "markdown",
      "source": [
        "Let's explore the implications. For the univariate normal `n`, `BE = ()`, so `log_prob` expects a scalar. If we pass `log_prob` a tensor with non-empty shape, those show up as batch dimensions in the output:"
      ]
    },
    {
      "metadata": {
        "id": "xRMkZd2cnqnG",
        "colab_type": "code",
        "colab": {
          "height": 33
        },
        "outputId": "2c8bf1b0-3235-4e3e-aaf4-9542a094009e"
      },
      "cell_type": "code",
      "source": [
        "n = tfd.Normal(loc=0., scale=1.)\n",
        "n"
      ],
      "execution_count": 0,
      "outputs": [
        {
          "output_type": "execute_result",
          "data": {
            "text/plain": [
              "<tf.distributions.Normal 'Normal/' batch_shape=() event_shape=() dtype=float32>"
            ]
          },
          "metadata": {
            "tags": []
          },
          "execution_count": 46
        }
      ]
    },
    {
      "metadata": {
        "id": "mci1cs1NnLDb",
        "colab_type": "code",
        "colab": {
          "height": 33
        },
        "outputId": "07b1c2e3-0497-4a9d-fc4d-be650bd128f8"
      },
      "cell_type": "code",
      "source": [
        "n.log_prob(0.)"
      ],
      "execution_count": 0,
      "outputs": [
        {
          "output_type": "execute_result",
          "data": {
            "text/plain": [
              "<tf.Tensor: id=4996, shape=(), dtype=float32, numpy=-0.91893852>"
            ]
          },
          "metadata": {
            "tags": []
          },
          "execution_count": 47
        }
      ]
    },
    {
      "metadata": {
        "id": "MQW1XSB1nRlH",
        "colab_type": "code",
        "colab": {
          "height": 33
        },
        "outputId": "f403a022-c3c1-4ad6-f1df-e091ed89bb81"
      },
      "cell_type": "code",
      "source": [
        "n.log_prob([0.])"
      ],
      "execution_count": 0,
      "outputs": [
        {
          "output_type": "execute_result",
          "data": {
            "text/plain": [
              "<tf.Tensor: id=5005, shape=(1,), dtype=float32, numpy=array([-0.91893852], dtype=float32)>"
            ]
          },
          "metadata": {
            "tags": []
          },
          "execution_count": 48
        }
      ]
    },
    {
      "metadata": {
        "id": "z-6d3PtTnT1W",
        "colab_type": "code",
        "colab": {
          "height": 66
        },
        "outputId": "2efcf4a4-88e7-4b99-e3f0-88568faf0ffb"
      },
      "cell_type": "code",
      "source": [
        "n.log_prob([[0., 1.], [-1., 2.]])"
      ],
      "execution_count": 0,
      "outputs": [
        {
          "output_type": "execute_result",
          "data": {
            "text/plain": [
              "<tf.Tensor: id=5014, shape=(2, 2), dtype=float32, numpy=\n",
              "array([[-0.91893852, -1.41893852],\n",
              "       [-1.41893852, -2.91893864]], dtype=float32)>"
            ]
          },
          "metadata": {
            "tags": []
          },
          "execution_count": 49
        }
      ]
    },
    {
      "metadata": {
        "id": "6BkE19lEh9XY",
        "colab_type": "text"
      },
      "cell_type": "markdown",
      "source": [
        "Let's turn to the two-dimensional multivariate normal `nd` (parameters changed for illustrative purposes):"
      ]
    },
    {
      "metadata": {
        "id": "Y1D3zg9kn8HJ",
        "colab_type": "code",
        "colab": {
          "height": 33
        },
        "outputId": "c957c0ee-e40f-488f-aeee-fe14ebc3d39f"
      },
      "cell_type": "code",
      "source": [
        "nd = tfd.MultivariateNormalDiag(loc=[0., 1.], scale_diag=[1., 1.])\n",
        "nd"
      ],
      "execution_count": 0,
      "outputs": [
        {
          "output_type": "execute_result",
          "data": {
            "text/plain": [
              "<tf.distributions.MultivariateNormalDiag 'MultivariateNormalDiag/' batch_shape=() event_shape=(2,) dtype=float32>"
            ]
          },
          "metadata": {
            "tags": []
          },
          "execution_count": 52
        }
      ]
    },
    {
      "metadata": {
        "id": "SyZS-on4oCR4",
        "colab_type": "text"
      },
      "cell_type": "markdown",
      "source": [
        "`log_prob` \"expects\" an argument with shape `(2,)`, but it will accept any argument that broadcasts against this shape: "
      ]
    },
    {
      "metadata": {
        "id": "RHyn5rV7oMzq",
        "colab_type": "code",
        "colab": {
          "height": 33
        },
        "outputId": "e6831e33-1e8a-4d2f-d550-ce84a74f36c9"
      },
      "cell_type": "code",
      "source": [
        "nd.log_prob([0., 0.])"
      ],
      "execution_count": 0,
      "outputs": [
        {
          "output_type": "execute_result",
          "data": {
            "text/plain": [
              "<tf.Tensor: id=5305, shape=(), dtype=float32, numpy=-2.337877>"
            ]
          },
          "metadata": {
            "tags": []
          },
          "execution_count": 54
        }
      ]
    },
    {
      "metadata": {
        "id": "DTnAETFGo17O",
        "colab_type": "text"
      },
      "cell_type": "markdown",
      "source": [
        "But we can pass in \"more\" examples, and evaluate all their `log_prob`'s at once:"
      ]
    },
    {
      "metadata": {
        "id": "-eSm6Hnlo1sn",
        "colab_type": "code",
        "colab": {
          "height": 33
        },
        "outputId": "876041f0-224f-4ffc-9905-7a669b2675fd"
      },
      "cell_type": "code",
      "source": [
        "nd.log_prob([[0., 0.],\n",
        "             [1., 1.],\n",
        "             [2., 2.]])"
      ],
      "execution_count": 0,
      "outputs": [
        {
          "output_type": "execute_result",
          "data": {
            "text/plain": [
              "<tf.Tensor: id=5622, shape=(3,), dtype=float32, numpy=array([-2.33787704, -2.33787704, -4.33787727], dtype=float32)>"
            ]
          },
          "metadata": {
            "tags": []
          },
          "execution_count": 58
        }
      ]
    },
    {
      "metadata": {
        "id": "dgxneFROpG7L",
        "colab_type": "text"
      },
      "cell_type": "markdown",
      "source": [
        "Perhaps less appealingly, we can broadcast over the event dimensions:"
      ]
    },
    {
      "metadata": {
        "id": "-YRxLZLcoW29",
        "colab_type": "code",
        "colab": {
          "height": 33
        },
        "outputId": "a20bbec2-f31e-40f7-9d83-7a547d1d62a1"
      },
      "cell_type": "code",
      "source": [
        "nd.log_prob([0.])"
      ],
      "execution_count": 0,
      "outputs": [
        {
          "output_type": "execute_result",
          "data": {
            "text/plain": [
              "<tf.Tensor: id=5702, shape=(), dtype=float32, numpy=-2.337877>"
            ]
          },
          "metadata": {
            "tags": []
          },
          "execution_count": 59
        }
      ]
    },
    {
      "metadata": {
        "id": "Md6RkXrcpNiK",
        "colab_type": "code",
        "colab": {
          "height": 33
        },
        "outputId": "0b6a8aa3-be32-4aee-d251-841c55465276"
      },
      "cell_type": "code",
      "source": [
        "nd.log_prob([[0.], [1.], [2.]])"
      ],
      "execution_count": 0,
      "outputs": [
        {
          "output_type": "execute_result",
          "data": {
            "text/plain": [
              "<tf.Tensor: id=5782, shape=(3,), dtype=float32, numpy=array([-2.33787704, -2.33787704, -4.33787727], dtype=float32)>"
            ]
          },
          "metadata": {
            "tags": []
          },
          "execution_count": 60
        }
      ]
    },
    {
      "metadata": {
        "id": "266h1o2KoZZL",
        "colab_type": "text"
      },
      "cell_type": "markdown",
      "source": [
        "Broadcasting this way is a consequence of our \"enable broadcasting whenever possible\" design; this usage is somewhat controversial and could potentially be removed in a future version of TFP.\n",
        "\n",
        "Now let's look at the three coins example again:"
      ]
    },
    {
      "metadata": {
        "id": "mKHtmSP6SnvY",
        "colab_type": "code",
        "colab": {}
      },
      "cell_type": "code",
      "source": [
        "b3 = tfd.Bernoulli(probs=[.3, .5, .7])"
      ],
      "execution_count": 0,
      "outputs": []
    },
    {
      "metadata": {
        "id": "bGOJAgv_p059",
        "colab_type": "text"
      },
      "cell_type": "markdown",
      "source": [
        "Here, using broadcasting to represent the probability that *each* coin comes up heads is quite intuitive:"
      ]
    },
    {
      "metadata": {
        "id": "ZYC6J8-dp50r",
        "colab_type": "code",
        "colab": {
          "height": 33
        },
        "outputId": "ca55c513-d725-4fc6-8582-79058aa49eb8"
      },
      "cell_type": "code",
      "source": [
        "b3.prob([1])"
      ],
      "execution_count": 0,
      "outputs": [
        {
          "output_type": "execute_result",
          "data": {
            "text/plain": [
              "<tf.Tensor: id=5850, shape=(3,), dtype=float32, numpy=array([ 0.29999998,  0.5       ,  0.69999999], dtype=float32)>"
            ]
          },
          "metadata": {
            "tags": []
          },
          "execution_count": 64
        }
      ]
    },
    {
      "metadata": {
        "id": "5gxdAEjBiLiw",
        "colab_type": "text"
      },
      "cell_type": "markdown",
      "source": [
        "(Compare this to `b3.prob([1., 1., 1.])`, which we would have used back where `b3` was introduced.)\n",
        "\n",
        "Now suppose we want to know, for each coin, the probability the coin comes up heads *and* the probability it comes up tails. We could imagine trying:\n",
        "\n",
        "`b3.log_prob([0, 1])`\n",
        "\n",
        "Unfortunately, this produces an error with a long and not-very-readable stack trace. `b3` has `BE = (3)`, so we must pass `b3.prob` something broadcastable against `(3,)`. `[0, 1]` has shape `(2)`, so it doesn't broadcast and creates an error.  Instead, we have to say:"
      ]
    },
    {
      "metadata": {
        "id": "_ry9LMiIieUx",
        "colab_type": "code",
        "colab": {
          "height": 66
        },
        "outputId": "6e006539-f62b-434d-f77c-61489da95b4a"
      },
      "cell_type": "code",
      "source": [
        "b3.prob([[0], [1]])"
      ],
      "execution_count": 0,
      "outputs": [
        {
          "output_type": "execute_result",
          "data": {
            "text/plain": [
              "<tf.Tensor: id=5829, shape=(2, 3), dtype=float32, numpy=\n",
              "array([[ 0.69999999,  0.5       ,  0.29999998],\n",
              "       [ 0.29999998,  0.5       ,  0.69999999]], dtype=float32)>"
            ]
          },
          "metadata": {
            "tags": []
          },
          "execution_count": 63
        }
      ]
    },
    {
      "metadata": {
        "id": "mxZ1WeK1qRcc",
        "colab_type": "text"
      },
      "cell_type": "markdown",
      "source": [
        "Why? `[[0], [1]]` has shape `(2, 1)`,  so it broadcasts against shape `(3)` to make a broadcast shape of `(2, 3)`."
      ]
    },
    {
      "metadata": {
        "id": "WJBxD-zOrLDQ",
        "colab_type": "text"
      },
      "cell_type": "markdown",
      "source": [
        "Broadcasting is quite powerful: there are cases where it allows order-of-magnitude reduction in the amount of memory used, and it often makes user code shorter. However, it can be challenging to program with. If you call `log_prob` and get an error, a failure to broadcast is nearly always the problem."
      ]
    },
    {
      "metadata": {
        "id": "JpjjIGThrj8Q",
        "colab_type": "text"
      },
      "cell_type": "markdown",
      "source": [
        "## Going Farther\n",
        "\n",
        "In this tutorial, we've (hopefully) provided a simple introduction. A few pointers for going further:\n",
        "\n",
        "*   `event_shape`, `batch_shape` and `sample_shape` can be arbitrary rank (in this tutorial they are always either scalar or rank 1). This increases the power but again can lead to programming challenges, especially when broadcasting is involved. For an additional deep dive into shape manipulation, see the [Understanding TensorFlow Distributions Shapes](https://github.com/tensorflow/probability/blob/master/tensorflow_probability/examples/jupyter_notebooks/Understanding_TensorFlow_Distributions_Shapes.ipynb). \n",
        "*   TFP includes a powerful abstraction known as `Bijectors`, which in conjunction with `TransformedDistribution`, yields a flexible, compositional way to easily create new distributions that are invertible transformations of existing distributions. We'll try to write a tutorial on this soon, but in the meantime, check out [the documentation](https://www.tensorflow.org/api_docs/python/tf/contrib/distributions/TransformedDistribution)\n",
        "\n"
      ]
    }
  ]
}